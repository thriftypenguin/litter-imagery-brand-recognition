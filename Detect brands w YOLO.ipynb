{
 "cells": [
  {
   "cell_type": "code",
   "execution_count": 1,
   "id": "96788646-5b82-4f51-9bdc-270a253103e1",
   "metadata": {},
   "outputs": [
    {
     "name": "stdout",
     "output_type": "stream",
     "text": [
      "Connecting to the PostgreSQL database...\n",
      "Connection successful\n"
     ]
    }
   ],
   "source": [
    "#! pip install ultralytics \n",
    "#! pip install psycopg2\n",
    "from PIL import Image\n",
    "import numpy as np\n",
    "import cv2\n",
    "import matplotlib.pyplot as plt\n",
    "import os\n",
    "from ultralytics import YOLO\n",
    "import psycopg2\n",
    "import im_utils\n",
    "import db_ops\n",
    "import pandas as pd\n",
    "\n",
    "import boto3\n",
    "s3_client = boto3.client('s3')"
   ]
  },
  {
   "cell_type": "markdown",
   "id": "e3ba6251-e394-4bec-8e93-95b9d3f97e5e",
   "metadata": {},
   "source": [
    "#### Get the full list of OLM images"
   ]
  },
  {
   "cell_type": "code",
   "execution_count": 2,
   "id": "17888f85-aabd-4d79-b56c-ae755c120b1c",
   "metadata": {},
   "outputs": [],
   "source": [
    "# Get a full list of box files already in the processed bucket\n",
    "objects = s3_client.list_objects_v2(Bucket='olm-processed-s3')\n",
    "processed_files_uris = []\n",
    "paginator = s3_client.get_paginator('list_objects_v2')\n",
    "pages = paginator.paginate(Bucket='olm-processed-s3', Prefix='box')\n",
    "\n",
    "for page in pages:\n",
    "    processed_files_uris = processed_files_uris + [dict['Key'] for dict in page['Contents']]"
   ]
  },
  {
   "cell_type": "code",
   "execution_count": 9,
   "id": "93461cc7-2f2c-4eee-bb3b-32d06401c356",
   "metadata": {},
   "outputs": [],
   "source": [
    "#Make the new box table\n",
    "query = \"\"\"\n",
    "\n",
    "drop table if exists box;\n",
    "\n",
    "CREATE TABLE \"box\"(box_id SERIAL PRIMARY KEY\n",
    "                    ,image_id INTEGER\n",
    "                    ,brand_id INTEGER\n",
    "                    ,cat_id INTEGER\n",
    "                    ,xmin_coord SMALLINT\n",
    "                    ,ymin_coord SMALLINT\n",
    "                    ,xmax_coord SMALLINT\n",
    "                    ,ymax_coord SMALLINT\n",
    "                    ,box_pic_uri VARCHAR(255)\n",
    "                    ,conf NUMERIC(5,4)\n",
    ");\n",
    "\n",
    "\"\"\"\n",
    "db_ops.run_single_query(query)"
   ]
  },
  {
   "cell_type": "code",
   "execution_count": 3,
   "id": "a20549a6-2195-48e3-a19c-ccbe41ae5ff0",
   "metadata": {},
   "outputs": [
    {
     "name": "stderr",
     "output_type": "stream",
     "text": [
      "/home/ubuntu/workspace/litter-imagery-brand-recognition/db_ops.py:57: UserWarning: pandas only supports SQLAlchemy connectable (engine/connection) or database string URI or sqlite3 DBAPI2 connection. Other DBAPI2 objects are not tested. Please consider using SQLAlchemy.\n",
      "  df = pd.read_sql_query(query, connection)\n"
     ]
    },
    {
     "data": {
      "text/html": [
       "<div>\n",
       "<style scoped>\n",
       "    .dataframe tbody tr th:only-of-type {\n",
       "        vertical-align: middle;\n",
       "    }\n",
       "\n",
       "    .dataframe tbody tr th {\n",
       "        vertical-align: top;\n",
       "    }\n",
       "\n",
       "    .dataframe thead th {\n",
       "        text-align: right;\n",
       "    }\n",
       "</style>\n",
       "<table border=\"1\" class=\"dataframe\">\n",
       "  <thead>\n",
       "    <tr style=\"text-align: right;\">\n",
       "      <th></th>\n",
       "      <th>uri</th>\n",
       "      <th>image_id</th>\n",
       "      <th>brand_id</th>\n",
       "      <th>cat_id</th>\n",
       "    </tr>\n",
       "  </thead>\n",
       "  <tbody>\n",
       "    <tr>\n",
       "      <th>0</th>\n",
       "      <td>s3://olm-pics-s3/112/Pftq4550WzgZA5euhgIEsLHGs...</td>\n",
       "      <td>1</td>\n",
       "      <td>NaN</td>\n",
       "      <td>47.0</td>\n",
       "    </tr>\n",
       "    <tr>\n",
       "      <th>1</th>\n",
       "      <td>s3://olm-pics-s3/112/HKXafwXvrpBQjoWC9aPtSY8lT...</td>\n",
       "      <td>2</td>\n",
       "      <td>NaN</td>\n",
       "      <td>39.0</td>\n",
       "    </tr>\n",
       "    <tr>\n",
       "      <th>2</th>\n",
       "      <td>s3://olm-pics-s3/112/69M58FGWNVp1ZTObF0YmkMfGN...</td>\n",
       "      <td>3</td>\n",
       "      <td>NaN</td>\n",
       "      <td>122.0</td>\n",
       "    </tr>\n",
       "  </tbody>\n",
       "</table>\n",
       "</div>"
      ],
      "text/plain": [
       "                                                 uri  image_id  brand_id  \\\n",
       "0  s3://olm-pics-s3/112/Pftq4550WzgZA5euhgIEsLHGs...         1       NaN   \n",
       "1  s3://olm-pics-s3/112/HKXafwXvrpBQjoWC9aPtSY8lT...         2       NaN   \n",
       "2  s3://olm-pics-s3/112/69M58FGWNVp1ZTObF0YmkMfGN...         3       NaN   \n",
       "\n",
       "   cat_id  \n",
       "0    47.0  \n",
       "1    39.0  \n",
       "2   122.0  "
      ]
     },
     "execution_count": 3,
     "metadata": {},
     "output_type": "execute_result"
    }
   ],
   "source": [
    "# Get a df of unprocesed images\n",
    "query = f'''\n",
    "SELECT DISTINCT ON (i.image_id)\n",
    "\t i.s3_uri AS uri\n",
    "\t, i.image_id as image_id\n",
    "\t, b.brand_id as brand_id \n",
    "\t, ci.cat_id as cat_id\n",
    "FROM image AS i \n",
    "\tLEFT JOIN brand_image AS bi\n",
    "\t\tON i.image_id = bi.image_id\n",
    "\tLEFT JOIN brand as b\n",
    "\t\tON b.brand_id = bi.brand_id \n",
    "\tLEFT JOIN category_image as ci\n",
    "\t\tON i.image_id = ci.image_id\n",
    "ORDER BY i.image_id\t;'''\n",
    "image_uri = db_ops.select_to_pandas(query, True, True)\n",
    "image_uri.head(3)"
   ]
  },
  {
   "cell_type": "code",
   "execution_count": 4,
   "id": "3ef73e1e-2365-40ea-b6dd-81b41574ebf3",
   "metadata": {},
   "outputs": [
    {
     "data": {
      "text/plain": [
       "27388"
      ]
     },
     "execution_count": 4,
     "metadata": {},
     "output_type": "execute_result"
    }
   ],
   "source": [
    "image_uri['brand_id'] = image_uri['brand_id'].fillna(value = 111).astype(int)\n",
    "image_uri['cat_id'] = image_uri['cat_id'].fillna(value = 20).astype(int)\n",
    "image_uri['file'] = image_uri['uri'].apply(lambda x: x.split('/')[-1].split('.')[0])\n",
    "len(image_uri)"
   ]
  },
  {
   "cell_type": "code",
   "execution_count": 5,
   "id": "bb9d1980-462b-42cf-bb90-3bffee3f1c1b",
   "metadata": {},
   "outputs": [
    {
     "name": "stderr",
     "output_type": "stream",
     "text": [
      "/home/ubuntu/workspace/litter-imagery-brand-recognition/db_ops.py:57: UserWarning: pandas only supports SQLAlchemy connectable (engine/connection) or database string URI or sqlite3 DBAPI2 connection. Other DBAPI2 objects are not tested. Please consider using SQLAlchemy.\n",
      "  df = pd.read_sql_query(query, connection)\n"
     ]
    },
    {
     "data": {
      "text/html": [
       "<div>\n",
       "<style scoped>\n",
       "    .dataframe tbody tr th:only-of-type {\n",
       "        vertical-align: middle;\n",
       "    }\n",
       "\n",
       "    .dataframe tbody tr th {\n",
       "        vertical-align: top;\n",
       "    }\n",
       "\n",
       "    .dataframe thead th {\n",
       "        text-align: right;\n",
       "    }\n",
       "</style>\n",
       "<table border=\"1\" class=\"dataframe\">\n",
       "  <thead>\n",
       "    <tr style=\"text-align: right;\">\n",
       "      <th></th>\n",
       "      <th>brand_id</th>\n",
       "      <th>brand_name</th>\n",
       "      <th>score</th>\n",
       "      <th>percent</th>\n",
       "      <th>tot_images</th>\n",
       "    </tr>\n",
       "  </thead>\n",
       "  <tbody>\n",
       "    <tr>\n",
       "      <th>0</th>\n",
       "      <td>111</td>\n",
       "      <td>Unknown</td>\n",
       "      <td>0.00000</td>\n",
       "      <td>None</td>\n",
       "      <td>None</td>\n",
       "    </tr>\n",
       "    <tr>\n",
       "      <th>1</th>\n",
       "      <td>35</td>\n",
       "      <td>dr_pepper</td>\n",
       "      <td>0.43366</td>\n",
       "      <td>None</td>\n",
       "      <td>None</td>\n",
       "    </tr>\n",
       "    <tr>\n",
       "      <th>2</th>\n",
       "      <td>29</td>\n",
       "      <td>coca_cola</td>\n",
       "      <td>3.77853</td>\n",
       "      <td>None</td>\n",
       "      <td>None</td>\n",
       "    </tr>\n",
       "  </tbody>\n",
       "</table>\n",
       "</div>"
      ],
      "text/plain": [
       "   brand_id brand_name    score percent tot_images\n",
       "0       111    Unknown  0.00000    None       None\n",
       "1        35  dr_pepper  0.43366    None       None\n",
       "2        29  coca_cola  3.77853    None       None"
      ]
     },
     "execution_count": 5,
     "metadata": {},
     "output_type": "execute_result"
    }
   ],
   "source": [
    "# Get a df of brand names\n",
    "query = f'''\n",
    "SELECT *\n",
    "FROM brand'''\n",
    "brand_df = db_ops.select_to_pandas(query, True, True)\n",
    "brand_df.head(3)"
   ]
  },
  {
   "cell_type": "code",
   "execution_count": 45,
   "id": "58af387e-24b3-4481-b453-d18503a6e861",
   "metadata": {},
   "outputs": [],
   "source": [
    "names = ['amstel_light', 'aquafina', 'bud_light', 'budweiser', 'burger_king', 'cheetos', 'coca_cola', 'coors', 'corona', 'dasani', 'deer_park', 'doritos', 'dr_pepper', 'dunkin', 'fanta', 'fireball', 'gatorade', 'great_value', 'guinness', 'heineken', 'heinz', 'kirkland', 'lays', 'marlboro', 'mccafe', 'mcdonalds', 'michelob', 'miller_light', 'modelo', 'monster', 'mountain_dew', 'natural_light', 'nestle_pure_life', 'newport', 'niagara', 'pepsi', 'powerade', 'red_bull', 'reeses', 'seven_eleven', 'snickers', 'sprite', 'starbucks', 'stella', 'white_claw']"
   ]
  },
  {
   "cell_type": "code",
   "execution_count": 52,
   "id": "7ae38c34-b146-4060-94e9-5d60f3f8415f",
   "metadata": {},
   "outputs": [],
   "source": [
    "for name in names:\n",
    "    if name in list(brand_df['brand_name']):\n",
    "        pass\n",
    "    else:\n",
    "        print(name)"
   ]
  },
  {
   "cell_type": "markdown",
   "id": "37c2ad8a-7a82-43aa-9af0-a761925619ab",
   "metadata": {},
   "source": [
    "#### Load the label/no-label classifier model"
   ]
  },
  {
   "cell_type": "code",
   "execution_count": 6,
   "id": "8a5aee95-ed71-4eca-8b86-fe81005f518a",
   "metadata": {},
   "outputs": [],
   "source": [
    "model = YOLO('/home/ubuntu/box_model/logo-yolo.pt')"
   ]
  },
  {
   "cell_type": "markdown",
   "id": "beafe41f-ee28-437e-bb78-5c961bb043c2",
   "metadata": {},
   "source": [
    "#### Copy the image from the original S3, extract the boxes"
   ]
  },
  {
   "cell_type": "code",
   "execution_count": 8,
   "id": "a6a8f7ff-4eb2-46ac-84b3-45960f848b5d",
   "metadata": {
    "scrolled": true
   },
   "outputs": [
    {
     "name": "stdout",
     "output_type": "stream",
     "text": [
      "------------------------------\n",
      "download: s3://olm-pics-s3/112/Pftq4550WzgZA5euhgIEsLHGs63tXSHAqCP07WKl.jpeg to ../../temp-images/Pftq4550WzgZA5euhgIEsLHGs63tXSHAqCP07WKl.jpeg\n",
      "\n",
      "0: 480x640 (no detections), 69.7ms\n",
      "Speed: 5.9ms preprocess, 69.7ms inference, 71.9ms postprocess per image at shape (1, 3, 480, 640)\n",
      "------------------------------\n",
      "download: s3://olm-pics-s3/112/HKXafwXvrpBQjoWC9aPtSY8lTGcdoZVlPItqNQkK.jpeg to ../../temp-images/HKXafwXvrpBQjoWC9aPtSY8lTGcdoZVlPItqNQkK.jpeg\n",
      "\n",
      "0: 640x480 1 doritos, 74.2ms\n",
      "Speed: 2.3ms preprocess, 74.2ms inference, 714.7ms postprocess per image at shape (1, 3, 640, 480)\n",
      "upload: ../../temp-images/scaled/HKXafwXvrpBQjoWC9aPtSY8lTGcdoZVlPItqNQkK-630-1695-864-1902.jpg to s3://olm-processed-s3/boxes_mult/112/HKXafwXvrpBQjoWC9aPtSY8lTGcdoZVlPItqNQkK-630-1695-864-1902.jpg\n",
      "INSERT INTO box (image_id,brand_id,cat_id,xmin_coord,ymin_coord,xmax_coord,ymax_coord,box_pic_uri,conf) VALUES ('2','34','0','630','1695','864','1902','s3://olm-processed-s3/boxes_mult/112/HKXafwXvrpBQjoWC9aPtSY8lTGcdoZVlPItqNQkK-630-1695-864-1902.jpg','0.4479427635669708');\n",
      "------------------------------\n",
      "download: s3://olm-pics-s3/112/69M58FGWNVp1ZTObF0YmkMfGNEz1nUu1B2MSI8Gt.jpeg to ../../temp-images/69M58FGWNVp1ZTObF0YmkMfGNEz1nUu1B2MSI8Gt.jpeg\n",
      "\n",
      "0: 640x640 1 gatorade, 46.7ms\n",
      "Speed: 1.8ms preprocess, 46.7ms inference, 1.1ms postprocess per image at shape (1, 3, 640, 640)\n",
      "upload: ../../temp-images/scaled/69M58FGWNVp1ZTObF0YmkMfGNEz1nUu1B2MSI8Gt-434-1102-688-1365.jpg to s3://olm-processed-s3/boxes_mult/112/69M58FGWNVp1ZTObF0YmkMfGNEz1nUu1B2MSI8Gt-434-1102-688-1365.jpg\n",
      "INSERT INTO box (image_id,brand_id,cat_id,xmin_coord,ymin_coord,xmax_coord,ymax_coord,box_pic_uri,conf) VALUES ('3','47','0','434','1102','688','1365','s3://olm-processed-s3/boxes_mult/112/69M58FGWNVp1ZTObF0YmkMfGNEz1nUu1B2MSI8Gt-434-1102-688-1365.jpg','0.5063694715499878');\n",
      "------------------------------\n",
      "download: s3://olm-pics-s3/112/Da9HiIUxqaxY7WeKi2INrzgTGzLGTvAl5HBhIEfn.jpeg to ../../temp-images/Da9HiIUxqaxY7WeKi2INrzgTGzLGTvAl5HBhIEfn.jpeg\n",
      "\n",
      "0: 640x640 (no detections), 46.1ms\n",
      "Speed: 1.8ms preprocess, 46.1ms inference, 0.6ms postprocess per image at shape (1, 3, 640, 640)\n",
      "------------------------------\n",
      "download: s3://olm-pics-s3/112/pUY1im8pNbPUAceAv17T5SCvmwK8KIAmVatpCN2o.jpeg to ../../temp-images/pUY1im8pNbPUAceAv17T5SCvmwK8KIAmVatpCN2o.jpeg\n",
      "\n",
      "0: 640x640 1 niagara, 47.5ms\n",
      "Speed: 1.9ms preprocess, 47.5ms inference, 1.3ms postprocess per image at shape (1, 3, 640, 640)\n",
      "upload: ../../temp-images/scaled/pUY1im8pNbPUAceAv17T5SCvmwK8KIAmVatpCN2o-378-380-591-497.jpg to s3://olm-processed-s3/boxes_mult/112/pUY1im8pNbPUAceAv17T5SCvmwK8KIAmVatpCN2o-378-380-591-497.jpg\n",
      "INSERT INTO box (image_id,brand_id,cat_id,xmin_coord,ymin_coord,xmax_coord,ymax_coord,box_pic_uri,conf) VALUES ('5','229','0','378','380','591','497','s3://olm-processed-s3/boxes_mult/112/pUY1im8pNbPUAceAv17T5SCvmwK8KIAmVatpCN2o-378-380-591-497.jpg','0.8888205289840698');\n",
      "------------------------------\n",
      "download: s3://olm-pics-s3/112/6yHUITkWkSqJpMGrqzS3qlFVTAjlFatcUu311nsO.jpeg to ../../temp-images/6yHUITkWkSqJpMGrqzS3qlFVTAjlFatcUu311nsO.jpeg\n",
      "\n",
      "0: 640x640 (no detections), 46.7ms\n",
      "Speed: 2.0ms preprocess, 46.7ms inference, 0.7ms postprocess per image at shape (1, 3, 640, 640)\n",
      "------------------------------\n",
      "download: s3://olm-pics-s3/112/crv1yjWlZ02JEhFiS2IzJx7j15KtM6eBz6XEhZRM.jpeg to ../../temp-images/crv1yjWlZ02JEhFiS2IzJx7j15KtM6eBz6XEhZRM.jpeg\n",
      "\n",
      "0: 480x640 2 gatorades, 34.8ms\n",
      "Speed: 1.4ms preprocess, 34.8ms inference, 1.6ms postprocess per image at shape (1, 3, 480, 640)\n",
      "upload: ../../temp-images/scaled/crv1yjWlZ02JEhFiS2IzJx7j15KtM6eBz6XEhZRM-362-610-545-750.jpg to s3://olm-processed-s3/boxes_mult/112/crv1yjWlZ02JEhFiS2IzJx7j15KtM6eBz6XEhZRM-362-610-545-750.jpg\n",
      "upload: ../../temp-images/scaled/crv1yjWlZ02JEhFiS2IzJx7j15KtM6eBz6XEhZRM-599-390-727-521.jpg to s3://olm-processed-s3/boxes_mult/112/crv1yjWlZ02JEhFiS2IzJx7j15KtM6eBz6XEhZRM-599-390-727-521.jpg\n",
      "INSERT INTO box (image_id,brand_id,cat_id,xmin_coord,ymin_coord,xmax_coord,ymax_coord,box_pic_uri,conf) VALUES ('7','47','0','362','610','545','750','s3://olm-processed-s3/boxes_mult/112/crv1yjWlZ02JEhFiS2IzJx7j15KtM6eBz6XEhZRM-362-610-545-750.jpg','0.9029819965362549');\n",
      "INSERT INTO box (image_id,brand_id,cat_id,xmin_coord,ymin_coord,xmax_coord,ymax_coord,box_pic_uri,conf) VALUES ('7','47','0','599','390','727','521','s3://olm-processed-s3/boxes_mult/112/crv1yjWlZ02JEhFiS2IzJx7j15KtM6eBz6XEhZRM-599-390-727-521.jpg','0.8964927196502686');\n",
      "------------------------------\n",
      "download: s3://olm-pics-s3/112/dNfjIUj5NkyEyoyXoQCZRxx0ivhnUsBndM8Ao0ga.jpeg to ../../temp-images/dNfjIUj5NkyEyoyXoQCZRxx0ivhnUsBndM8Ao0ga.jpeg\n",
      "\n",
      "0: 640x640 1 sprite, 48.2ms\n",
      "Speed: 2.7ms preprocess, 48.2ms inference, 1.2ms postprocess per image at shape (1, 3, 640, 640)\n",
      "upload: ../../temp-images/scaled/dNfjIUj5NkyEyoyXoQCZRxx0ivhnUsBndM8Ao0ga-777-635-1082-866.jpg to s3://olm-processed-s3/boxes_mult/112/dNfjIUj5NkyEyoyXoQCZRxx0ivhnUsBndM8Ao0ga-777-635-1082-866.jpg\n",
      "INSERT INTO box (image_id,brand_id,cat_id,xmin_coord,ymin_coord,xmax_coord,ymax_coord,box_pic_uri,conf) VALUES ('8','272','0','777','635','1082','866','s3://olm-processed-s3/boxes_mult/112/dNfjIUj5NkyEyoyXoQCZRxx0ivhnUsBndM8Ao0ga-777-635-1082-866.jpg','0.8928069472312927');\n",
      "------------------------------\n",
      "download: s3://olm-pics-s3/112/AunDETAqwJifHi365Ne9jUb1E4QYfwn2UYVHHjgX.jpeg to ../../temp-images/AunDETAqwJifHi365Ne9jUb1E4QYfwn2UYVHHjgX.jpeg\n",
      "\n",
      "0: 640x512 1 corona, 67.9ms\n",
      "Speed: 2.9ms preprocess, 67.9ms inference, 1.1ms postprocess per image at shape (1, 3, 640, 512)\n",
      "upload: ../../temp-images/scaled/AunDETAqwJifHi365Ne9jUb1E4QYfwn2UYVHHjgX-411-1139-928-1503.jpg to s3://olm-processed-s3/boxes_mult/112/AunDETAqwJifHi365Ne9jUb1E4QYfwn2UYVHHjgX-411-1139-928-1503.jpg\n",
      "INSERT INTO box (image_id,brand_id,cat_id,xmin_coord,ymin_coord,xmax_coord,ymax_coord,box_pic_uri,conf) VALUES ('9','32','0','411','1139','928','1503','s3://olm-processed-s3/boxes_mult/112/AunDETAqwJifHi365Ne9jUb1E4QYfwn2UYVHHjgX-411-1139-928-1503.jpg','0.8726018667221069');\n",
      "------------------------------\n",
      "download: s3://olm-pics-s3/628/QOH8WbXGYXyM1h8JUN0F1ep6JLOE1ochA6qu8Y8C.jpeg to ../../temp-images/QOH8WbXGYXyM1h8JUN0F1ep6JLOE1ochA6qu8Y8C.jpeg\n",
      "\n",
      "0: 640x480 (no detections), 35.6ms\n",
      "Speed: 2.4ms preprocess, 35.6ms inference, 0.5ms postprocess per image at shape (1, 3, 640, 480)\n"
     ]
    }
   ],
   "source": [
    "for i in range(len(image_uri)):\n",
    "    print('-'*30)\n",
    "    try:\n",
    "        # Get the file names and uris\n",
    "        original_im_uri = image_uri['uri'].iloc[i]\n",
    "        image_id = image_uri['image_id'].iloc[i]\n",
    "        tmp_im_folder = '/home/ubuntu/temp-images'\n",
    "        im_file = original_im_uri.split('/')[-1]\n",
    "        scaled_im_uri = original_im_uri.replace('-pics-s3', '-processed-s3/scaled').split('.')[0] + '.jpg'\n",
    "        scaled_im_local_path = os.path.join(tmp_im_folder, 'scaled', im_file.split('.')[0] + '.jpg')\n",
    "        boxes_s3_path = scaled_im_uri.replace('/scaled', '/boxes_mult')\n",
    "        boxes_s3_path = '/'.join(boxes_s3_path.split('/')[:-1]) + '/'\n",
    "        \n",
    "        # Download the image from olm bucket, scale it and write to the local folder\n",
    "        os.system(f\"aws s3 cp {original_im_uri} {tmp_im_folder}\") \n",
    "\n",
    "        image_original = cv2.imread(tmp_im_folder+'/'+im_file)\n",
    "        image_scaled = im_utils.ScaleImage(image_original, width = 640)\n",
    "        cv2.imwrite(scaled_im_local_path, image_scaled)\n",
    "\n",
    "        # Run YOLO inference\n",
    "        results = model(image_scaled)\n",
    "            \n",
    "        boxes_df = pd.DataFrame(columns = ['image_id', 'brand_id', 'cat_id', 'xmin_coord', 'ymin_coord', 'xmax_coord', 'ymax_coord', 'box_pic_uri','conf'])\n",
    "        w_ratio = image_original.shape[1]/image_scaled.shape[1]\n",
    "        h_ratio = image_original.shape[0]/image_scaled.shape[0]\n",
    "        for i in range(len(results[0].boxes.cls)):# Iterate over each box   \n",
    "            # Get the coordinates of the box on the original image\n",
    "            xmin, ymin, xmax, ymax = map(int, results[0].boxes.xyxy[i]) \n",
    "            xmin = int(xmin * w_ratio)\n",
    "            xmax = int(xmax * w_ratio)\n",
    "            ymin = int(ymin * h_ratio)\n",
    "            ymax = int(ymax * h_ratio)\n",
    "            postfix = f\"-{xmin}-{ymin}-{xmax}-{ymax}\"\n",
    "            box_file = im_file.split('.')[0]+postfix+'.jpg'\n",
    "            \n",
    "            # Get the section of the original image that is in the box\n",
    "            box_im = image_original[ymin:ymax, xmin:xmax,:]\n",
    "            # Save the box locally as an individual file\n",
    "            cv2.imwrite(tmp_im_folder + '/scaled/' + box_file, box_im)\n",
    "\n",
    "            # Add line with the box data to the df for db insertion\n",
    "            idx = len(boxes_df)\n",
    "            brand_name = results[0].names[int(results[0].boxes.cls[i])]\n",
    "            boxes_df.loc[idx, 'brand_id'] = brand_df[brand_df['brand_name'] == brand_name]['brand_id'].iloc[0]\n",
    "            boxes_df.loc[idx, 'cat_id'] = 0\n",
    "            boxes_df.loc[idx, 'xmin_coord'] = xmin\n",
    "            boxes_df.loc[idx, 'ymin_coord'] = ymin\n",
    "            boxes_df.loc[idx, 'xmax_coord'] = xmax\n",
    "            boxes_df.loc[idx, 'ymax_coord'] = ymax\n",
    "            boxes_df.loc[idx, 'image_id']= image_id\n",
    "            boxes_df.loc[idx, 'box_pic_uri']= boxes_s3_path + box_file\n",
    "            boxes_df.loc[idx, 'conf']= float(results[0].boxes.conf[i])\n",
    "        \n",
    "            # Upload the box file to processed s3 bucket\n",
    "            os.system(f\"aws s3 cp {tmp_im_folder + '/scaled/' + box_file} {boxes_s3_path}\") \n",
    "\n",
    "        #Delete old boxes for this image\n",
    "        query = f'''\n",
    "        DELETE FROM box\n",
    "        WHERE image_id = {image_id}\n",
    "        '''\n",
    "        db_ops.run_single_query(query)\n",
    "        #Update box table with the new boxes\n",
    "        db_ops.add_df(boxes_df, \"box\")\n",
    "\n",
    "        #Clean up temp folders\n",
    "        os.system(f\"find ~/temp-images/ -maxdepth 2 -type f -delete\")\n",
    "    except Exception as e:\n",
    "        print(e)"
   ]
  },
  {
   "cell_type": "code",
   "execution_count": null,
   "id": "89d92601-a2f8-4e1b-ad8c-023fad51b488",
   "metadata": {},
   "outputs": [],
   "source": []
  }
 ],
 "metadata": {
  "kernelspec": {
   "display_name": "Python 3 (ipykernel)",
   "language": "python",
   "name": "python3"
  },
  "language_info": {
   "codemirror_mode": {
    "name": "ipython",
    "version": 3
   },
   "file_extension": ".py",
   "mimetype": "text/x-python",
   "name": "python",
   "nbconvert_exporter": "python",
   "pygments_lexer": "ipython3",
   "version": "3.11.7"
  }
 },
 "nbformat": 4,
 "nbformat_minor": 5
}
