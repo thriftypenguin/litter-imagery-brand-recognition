{
 "cells": [
  {
   "cell_type": "markdown",
   "metadata": {},
   "source": [
    "# Imports"
   ]
  },
  {
   "cell_type": "code",
   "execution_count": 10,
   "metadata": {},
   "outputs": [],
   "source": [
    "import os\n",
    "import pandas as pd\n",
    "from selenium import webdriver\n",
    "from selenium.webdriver.chrome.service import Service\n",
    "from selenium.webdriver.chrome.options import Options\n",
    "from selenium.webdriver.common.by import By\n",
    "from selenium.webdriver.support.ui import WebDriverWait\n",
    "from selenium.webdriver.support import expected_conditions as EC\n",
    "from webdriver_manager.chrome import ChromeDriverManager\n",
    "import concurrent.futures\n",
    "import numpy as np\n",
    "import threading"
   ]
  },
  {
   "cell_type": "markdown",
   "metadata": {},
   "source": [
    "# Get Links"
   ]
  },
  {
   "cell_type": "code",
   "execution_count": 12,
   "metadata": {},
   "outputs": [
    {
     "name": "stdout",
     "output_type": "stream",
     "text": [
      "Found image URL: https://olm-s3.s3.eu-west-1.amazonaws.com/2020/12/11/42320550-0C8E-4C27-9EA7-60119399C1EA.jpg\n",
      "Found image URL: https://olm-s3.s3.eu-west-1.amazonaws.com/2021/06/24/IMG_2014.HEIC\n",
      "Found image URL: https://olm-s3.s3.eu-west-1.amazonaws.com/2021/03/20/IMG_5925.HEIC\n",
      "Found image URL: https://olm-s3.s3.eu-west-1.amazonaws.com/2021/01/09/IMG_0679.HEIC\n",
      "Found image URL: https://olm-s3.s3.eu-west-1.amazonaws.com/2021/06/24/IMG_2013.HEIC\n",
      "Found image URL: https://olm-s3.s3.eu-west-1.amazonaws.com/2021/03/20/IMG_5923.HEIC\n",
      "Found image URL: https://olm-s3.s3.eu-west-1.amazonaws.com/2021/04/17/IMG_0780.HEIC\n",
      "Found image URL: https://olm-s3.s3.eu-west-1.amazonaws.com/2021/06/24/IMG_2012.HEIC\n",
      "Found image URL: https://olm-s3.s3.eu-west-1.amazonaws.com/2021/03/20/IMG_5920.HEIC\n",
      "Found image URL: https://olm-s3.s3.eu-west-1.amazonaws.com/2021/04/24/785C55E0-228A-4E79-85CC-D616DEBE8771.jpg\n",
      "Found image URL: https://olm-s3.s3.eu-west-1.amazonaws.com/2021/06/24/IMG_2011.HEIC\n",
      "Found image URL: https://olm-s3.s3.eu-west-1.amazonaws.com/2021/03/20/IMG_5916.HEIC\n",
      "Found image URL: https://olm-s3.s3.eu-west-1.amazonaws.com/2021/04/24/785C55E0-228A-4E79-85CC-D616DEBE8771.jpg\n",
      "Found image URL: https://olm-s3.s3.eu-west-1.amazonaws.com/2021/06/24/IMG_2008.HEIC\n",
      "Found image URL: https://olm-s3.s3.eu-west-1.amazonaws.com/2021/03/20/IMG_5913.HEIC\n",
      "Found image URL: https://olm-s3.s3.eu-west-1.amazonaws.com/2021/04/27/EDC420C9-829F-42F0-BC3D-0CA8FB7F084C.jpg\n",
      "Found image URL: https://olm-s3.s3.eu-west-1.amazonaws.com/2021/06/24/IMG_2007.HEIC\n",
      "Found image URL: https://olm-s3.s3.eu-west-1.amazonaws.com/2021/03/20/IMG_5909.HEIC\n",
      "Found image URL: https://olm-s3.s3.eu-west-1.amazonaws.com/2021/04/28/6252168A-8497-4CA5-97E3-7DC251A3FA91.jpg\n",
      "Found image URL: https://olm-s3.s3.eu-west-1.amazonaws.com/2021/06/24/IMG_2006.HEIC\n",
      "Found image URL: https://olm-s3.s3.eu-west-1.amazonaws.com/2021/03/20/IMG_5889.HEIC\n",
      "Found image URL: https://olm-s3.s3.eu-west-1.amazonaws.com/2021/05/13/2D3F4290-1098-479B-9CC7-952C4CF17456.jpg\n",
      "Found image URL: https://olm-s3.s3.eu-west-1.amazonaws.com/2021/06/24/IMG_2005.HEIC\n",
      "Found image URL: https://olm-s3.s3.eu-west-1.amazonaws.com/2021/03/20/IMG_5913.HEIC\n",
      "Found image URL: https://olm-s3.s3.eu-west-1.amazonaws.com/2021/05/18/90765E52-4C4B-4266-97E0-66CC82748BAD.jpg\n",
      "Found image URL: https://olm-s3.s3.eu-west-1.amazonaws.com/2021/06/24/IMG_1987.HEIC\n",
      "Found image URL: https://olm-s3.s3.eu-west-1.amazonaws.com/2021/03/20/IMG_5883.HEIC\n",
      "Found image URL: https://olm-s3.s3.eu-west-1.amazonaws.com/2021/05/19/IMG_0865.HEIC\n",
      "Found image URL: https://olm-s3.s3.eu-west-1.amazonaws.com/2021/06/25/IMG_2139.HEIC\n",
      "Found image URL: https://olm-s3.s3.eu-west-1.amazonaws.com/2021/03/20/IMG_5913.HEIC\n",
      "Found image URL: https://olm-s3.s3.eu-west-1.amazonaws.com/2021/05/19/IMG_0866.HEIC\n",
      "Found image URL: https://olm-s3.s3.eu-west-1.amazonaws.com/2021/06/25/IMG_2137.HEIC\n",
      "Found image URL: https://olm-s3.s3.eu-west-1.amazonaws.com/2021/03/20/IMG_5883.HEIC\n",
      "Found image URL: https://olm-s3.s3.eu-west-1.amazonaws.com/2021/05/25/B2235566-A6FA-4019-AA99-458F64D4EA97.jpg\n",
      "Found image URL: https://olm-s3.s3.eu-west-1.amazonaws.com/2021/06/25/IMG_2136.HEIC\n",
      "Found image URL: https://olm-s3.s3.eu-west-1.amazonaws.com/2021/04/05/A6HakPy7hnRlukeE9eReUmMKwCFfgHqUeV9ky6Dx.jpg\n",
      "Found image URL: https://olm-s3.s3.eu-west-1.amazonaws.com/2021/05/26/IMG_0876.HEIC\n",
      "Found image URL: https://olm-s3.s3.eu-west-1.amazonaws.com/2021/06/25/IMG_2134.HEIC\n",
      "Found image URL: https://olm-s3.s3.eu-west-1.amazonaws.com/2021/04/05/Npv1Pcru92wZ7rEg7uajHK3gz6envIq5OPVjSu7z.jpg\n",
      "Found image URL: https://olm-s3.s3.eu-west-1.amazonaws.com/2021/05/27/IMG_0881.HEIC\n",
      "Found image URL: https://olm-s3.s3.eu-west-1.amazonaws.com/2021/06/25/IMG_2133.HEIC\n"
     ]
    }
   ],
   "source": [
    "# Load the CSV file\n",
    "file_path = './data/combined_tabular_data.csv'\n",
    "checkpoint_path = './data/checkpoint_data.csv'\n",
    "\n",
    "write_lock = threading.Lock()\n",
    "\n",
    "if os.path.exists(checkpoint_path):\n",
    "    file = pd.read_csv(checkpoint_path, low_memory=False)\n",
    "else:\n",
    "    file = pd.read_csv(file_path, low_memory=False)\n",
    "    file.to_csv(checkpoint_path)\n",
    "    file['image_url'] = None\n",
    "\n",
    "def scrape_page(data_chunk):\n",
    "    options = Options()\n",
    "    options.add_argument('--headless=new')\n",
    "    driver = webdriver.Chrome(service=Service(ChromeDriverManager().install()), options=options)\n",
    "\n",
    "    for index, row in data_chunk.iterrows():\n",
    "        if pd.notna(row['image_url']):\n",
    "            continue\n",
    "        \n",
    "        page_url = row['link']\n",
    "        driver.get(page_url)\n",
    "\n",
    "        try:\n",
    "            image_tag = WebDriverWait(driver, 20).until(\n",
    "                EC.presence_of_element_located((By.CSS_SELECTOR, 'img.leaflet-litter-img'))\n",
    "            )\n",
    "            image_url = image_tag.get_attribute('src')\n",
    "            data_chunk.at[index, 'image_url'] = image_url\n",
    "            print(f'Found image URL: {image_url}')\n",
    "\n",
    "            with write_lock:\n",
    "                temp_file = pd.read_csv(checkpoint_path, low_memory=False)\n",
    "                temp_file.loc[temp_file['id'] == row['id'], 'image_url'] = image_url\n",
    "                temp_file.to_csv(checkpoint_path, index=False)\n",
    "\n",
    "        except Exception as e:\n",
    "            print(f'No image found on page {page_url} or failed to access the page due to: {e}')\n",
    "\n",
    "    driver.quit()\n",
    "\n",
    "    return data_chunk\n",
    "\n",
    "# Split DataFrame into chunks\n",
    "num_chunks = 3  # Adjust this number based on your system's capabilities\n",
    "chunks = np.array_split(file, num_chunks)\n",
    "\n",
    "# Process chunks in parallel\n",
    "with concurrent.futures.ThreadPoolExecutor() as executor:\n",
    "    results = list(executor.map(scrape_page, chunks))\n",
    "\n",
    "# Combine results into a single DataFrame\n",
    "file = pd.concat(results)\n",
    "\n",
    "# Save the final DataFrame to a file\n",
    "file.to_excel('./final_output_with_images.xlsx', index=False)\n"
   ]
  }
 ],
 "metadata": {
  "kernelspec": {
   "display_name": "Python 3.10.9 ('base')",
   "language": "python",
   "name": "python3"
  },
  "language_info": {
   "codemirror_mode": {
    "name": "ipython",
    "version": 3
   },
   "file_extension": ".py",
   "mimetype": "text/x-python",
   "name": "python",
   "nbconvert_exporter": "python",
   "pygments_lexer": "ipython3",
   "version": "3.10.9"
  },
  "orig_nbformat": 4,
  "vscode": {
   "interpreter": {
    "hash": "af46d77f25f6268fb52e7aa039aee65944f4abeb7c36e07a63c4427d9c88eec5"
   }
  }
 },
 "nbformat": 4,
 "nbformat_minor": 2
}
