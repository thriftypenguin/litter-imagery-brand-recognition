!pip install streamlit
!pip install boto3


import streamlit as st
import boto3
import os
from botocore.exceptions import NoCredentialsError

# AWS S3 configuration
def get_s3_client():
    # Use environment variables for credentials
    aws_access_key_id = os.environ.get('AWS_ACCESS_KEY_ID')
    aws_secret_access_key = os.environ.get('AWS_SECRET_ACCESS_KEY')
    
    if not aws_access_key_id or not aws_secret_access_key:
        st.error("AWS credentials are not set. Please set the environment variables.")
        return None

    return boto3.client('s3',
                        aws_access_key_id=aws_access_key_id,
                        aws_secret_access_key=aws_secret_access_key)

s3 = get_s3_client()
bucket_name = 'open-logo-s3'  # Replace with your actual bucket name
object_prefix = 'external_upload_images/'

st.title('LitterLog')
st.write('Welcome to LitterLog')
st.write('Thank you for your contribution to help us change the world')
st.write('Every photo you share will help the community become more knowledgeable about brand pollution')

uploaded_file = st.file_uploader("Choose an image to upload", type=['png', 'jpg', 'jpeg'])

if uploaded_file is not None and s3:
    # Generate a unique filename
    file_extension = os.path.splitext(uploaded_file.name)[1]
    unique_filename = f"{object_prefix}{st.session_state.get('upload_count', 0)}{file_extension}"
    
    # Upload to S3
    try:
        s3.upload_fileobj(uploaded_file, bucket_name, unique_filename)
        st.success(f"File uploaded successfully as {unique_filename}")
        
        # Increment upload count
        st.session_state['upload_count'] = st.session_state.get('upload_count', 0) + 1
        
        # Display uploaded image
        st.image(uploaded_file, caption='Uploaded Image', use_column_width=True)
        
        st.write('Once you upload the photos, a new brand litter score will be generated based on updated information.')
    except NoCredentialsError:
        st.error("Credentials not available")
    except Exception as e:
        st.error(f"Error uploading file: {e}")
else:
    st.info("Please upload an image to proceed.")


!pip install st_files_connection


!pip install streamlit requests opencv-python numpy Pillow



