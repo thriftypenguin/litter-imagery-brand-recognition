{
 "cells": [
  {
   "cell_type": "code",
   "execution_count": null,
   "metadata": {},
   "outputs": [],
   "source": [
    "SELECT \n",
    "  brand_id AS brand_id,\n",
    "  ROUND (SUM(qty)*100.0/(SELECT SUM(qty) FROM brand_image), 5) AS qty_fraction\n",
    "FROM \n",
    "  brand_image\n",
    "GROUP BY brand_id\n",
    "ORDER BY qty_fraction DESC"
   ]
  }
 ],
 "metadata": {
  "language_info": {
   "name": "python"
  }
 },
 "nbformat": 4,
 "nbformat_minor": 2
}
