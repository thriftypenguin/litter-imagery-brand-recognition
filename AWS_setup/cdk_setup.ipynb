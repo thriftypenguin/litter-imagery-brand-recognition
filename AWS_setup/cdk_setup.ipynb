{
 "cells": [
  {
   "cell_type": "code",
   "execution_count": 1,
   "metadata": {},
   "outputs": [],
   "source": [
    "# This is to create a cdk.json file to run the cdk app\n",
    "# It is needed to create the file with the correct formats of the paths, specific to the OS\n",
    "# This is for WINDOWS\n",
    "import os\n",
    "p = os.getcwd()\n",
    "python_path = os.path.join(p, \".venv\", \"Scripts\", \"python.exe\")\n",
    "app_path = os.path.join(p, \"stack_build.py\")\n",
    "\n",
    "import json \n",
    "out_file = open(\"cdk.json\", \"w\") \n",
    "  \n",
    "json.dump({'app': f'{python_path} {app_path}'}, out_file, indent = 4) \n",
    "  \n",
    "out_file.close() "
   ]
  },
  {
   "cell_type": "code",
   "execution_count": 2,
   "metadata": {},
   "outputs": [],
   "source": [
    "# It is needed to create the file with the correct formats of the paths, specific to the OS\n",
    "# This is for LINUX\n",
    "import os\n",
    "p = os.getcwd()\n",
    "python_path = os.path.join('python')\n",
    "app_path = os.path.join(\"stack_build.py\")\n",
    "\n",
    "import json \n",
    "out_file = open(\"cdk.json\", \"w\") \n",
    "  \n",
    "json.dump({'app': f'{python_path} {app_path}'}, out_file, indent = 4) \n",
    "  \n",
    "out_file.close() "
   ]
  },
  {
   "cell_type": "code",
   "execution_count": 1,
   "metadata": {},
   "outputs": [
    {
     "ename": "ModuleNotFoundError",
     "evalue": "No module named 'aws_cdk'",
     "output_type": "error",
     "traceback": [
      "\u001b[0;31m---------------------------------------------------------------------------\u001b[0m",
      "\u001b[0;31mModuleNotFoundError\u001b[0m                       Traceback (most recent call last)",
      "Cell \u001b[0;32mIn[1], line 2\u001b[0m\n\u001b[1;32m      1\u001b[0m \u001b[38;5;28;01mimport\u001b[39;00m \u001b[38;5;21;01mboto3\u001b[39;00m\n\u001b[0;32m----> 2\u001b[0m \u001b[38;5;28;01mfrom\u001b[39;00m \u001b[38;5;21;01maws_cdk\u001b[39;00m \u001b[38;5;28;01mimport\u001b[39;00m (\n\u001b[1;32m      3\u001b[0m     Stack,\n\u001b[1;32m      4\u001b[0m     aws_s3 \u001b[38;5;28;01mas\u001b[39;00m s3,\n\u001b[1;32m      5\u001b[0m     App, CfnOutput\n\u001b[1;32m      6\u001b[0m )\n\u001b[1;32m      7\u001b[0m \u001b[38;5;28;01mimport\u001b[39;00m \u001b[38;5;21;01maws_cdk\u001b[39;00m \u001b[38;5;28;01mas\u001b[39;00m \u001b[38;5;21;01mcdk\u001b[39;00m\n",
      "\u001b[0;31mModuleNotFoundError\u001b[0m: No module named 'aws_cdk'"
     ]
    }
   ],
   "source": [
    "import boto3\n",
    "from aws_cdk import (\n",
    "    Stack,\n",
    "    aws_s3 as s3,\n",
    "    App, CfnOutput\n",
    ")\n",
    "import aws_cdk as cdk"
   ]
  },
  {
   "cell_type": "code",
   "execution_count": null,
   "metadata": {},
   "outputs": [],
   "source": []
  }
 ],
 "metadata": {
  "kernelspec": {
   "display_name": ".venv",
   "language": "python",
   "name": "python3"
  },
  "language_info": {
   "codemirror_mode": {
    "name": "ipython",
    "version": 3
   },
   "file_extension": ".py",
   "mimetype": "text/x-python",
   "name": "python",
   "nbconvert_exporter": "python",
   "pygments_lexer": "ipython3",
   "version": "3.10.12"
  }
 },
 "nbformat": 4,
 "nbformat_minor": 2
}
