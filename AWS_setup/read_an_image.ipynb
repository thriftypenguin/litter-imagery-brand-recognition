{
 "cells": [
  {
   "cell_type": "code",
   "execution_count": 3,
   "metadata": {},
   "outputs": [],
   "source": [
    "\n",
    "import numpy as np\n",
    "import boto3\n",
    "from PIL import Image\n",
    "from io import BytesIO\n",
    "\n",
    "def read_image_from_s3(bucket, key, region_name='us-east-1'):\n",
    "    \"\"\"Load image file from s3.\n",
    "\n",
    "    Parameters\n",
    "    ----------\n",
    "    bucket: string\n",
    "        Bucket name\n",
    "    key : string\n",
    "        Path in s3\n",
    "\n",
    "    Returns\n",
    "    -------\n",
    "    np array\n",
    "        Image array\n",
    "    \"\"\"\n",
    "    s3 = boto3.resource('s3', region_name=region_name)\n",
    "    bucket = s3.Bucket(bucket)\n",
    "    object = bucket.Object(key)\n",
    "    response = object.get()\n",
    "    file_stream = response['Body']\n",
    "    im = Image.open(file_stream)\n",
    "    return im"
   ]
  },
  {
   "cell_type": "code",
   "execution_count": null,
   "metadata": {},
   "outputs": [],
   "source": []
  },
  {
   "cell_type": "code",
   "execution_count": 4,
   "metadata": {},
   "outputs": [],
   "source": [
    "im = read_image_from_s3('olm-pics-s3','2011/03/13/IMG_0001.JPG')\n",
    "im.show()"
   ]
  },
  {
   "cell_type": "code",
   "execution_count": null,
   "metadata": {},
   "outputs": [],
   "source": []
  }
 ],
 "metadata": {
  "kernelspec": {
   "display_name": ".venv",
   "language": "python",
   "name": "python3"
  },
  "language_info": {
   "codemirror_mode": {
    "name": "ipython",
    "version": 3
   },
   "file_extension": ".py",
   "mimetype": "text/x-python",
   "name": "python",
   "nbconvert_exporter": "python",
   "pygments_lexer": "ipython3",
   "version": "3.10.12"
  }
 },
 "nbformat": 4,
 "nbformat_minor": 2
}
