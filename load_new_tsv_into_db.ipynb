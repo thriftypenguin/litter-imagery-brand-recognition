{
  "cells": [
    {
      "cell_type": "code",
      "execution_count": 1,
      "metadata": {},
      "outputs": [
        {
          "name": "stdout",
          "output_type": "stream",
          "text": [
            "Connecting to the PostgreSQL database...\n",
            "Connection successful\n"
          ]
        }
      ],
      "source": [
        "#import libraries\n",
        "import db_ops\n",
        "import pandas as pd"
      ]
    },
    {
      "cell_type": "markdown",
      "metadata": {},
      "source": [
        "## Load file, parse csv and fix some of the problems"
      ]
    },
    {
      "cell_type": "code",
      "execution_count": 2,
      "metadata": {
        "scrolled": true
      },
      "outputs": [
        {
          "data": {
            "text/plain": [
              "'\\n# Read csv into panda, do not infer column names\\ninvoice_lines = pd.read_csv(\"2023_08 invoices.csv\", encoding = \"ISO-8859-1\", header = None, index_col = 0, sep=\"\\t\")\\n\\n# Read csv into panda, just to get the column names\\ndf_tmp = pd.read_csv(\"2023_08 invoices.csv\", encoding = \"ISO-8859-1\", index_col = 0, sep=\"\\t\")\\ninvoice_lines.columns = df_tmp.columns\\ninvoice_lines.columns\\n'"
            ]
          },
          "execution_count": 2,
          "metadata": {},
          "output_type": "execute_result"
        }
      ],
      "source": [
        "'''\n",
        "# Read csv into panda, do not infer column names\n",
        "invoice_lines = pd.read_csv(\"2023_08 invoices.csv\", encoding = \"ISO-8859-1\", header = None, index_col = 0, sep=\"\\t\")\n",
        "\n",
        "# Read csv into panda, just to get the column names\n",
        "df_tmp = pd.read_csv(\"2023_08 invoices.csv\", encoding = \"ISO-8859-1\", index_col = 0, sep=\"\\t\")\n",
        "invoice_lines.columns = df_tmp.columns\n",
        "invoice_lines.columns\n",
        "'''"
      ]
    },
    {
      "cell_type": "markdown",
      "metadata": {},
      "source": [
        "## Brands table"
      ]
    },
    {
      "cell_type": "code",
      "execution_count": 9,
      "metadata": {
        "collapsed": true
      },
      "outputs": [
        {
          "data": {
            "text/html": [
              "<div>\n",
              "<style scoped>\n",
              "    .dataframe tbody tr th:only-of-type {\n",
              "        vertical-align: middle;\n",
              "    }\n",
              "\n",
              "    .dataframe tbody tr th {\n",
              "        vertical-align: top;\n",
              "    }\n",
              "\n",
              "    .dataframe thead th {\n",
              "        text-align: right;\n",
              "    }\n",
              "</style>\n",
              "<table border=\"1\" class=\"dataframe\">\n",
              "  <thead>\n",
              "    <tr style=\"text-align: right;\">\n",
              "      <th></th>\n",
              "      <th>brand_id</th>\n",
              "      <th>name</th>\n",
              "      <th>score</th>\n",
              "    </tr>\n",
              "  </thead>\n",
              "  <tbody>\n",
              "    <tr>\n",
              "      <th>0</th>\n",
              "      <td>1</td>\n",
              "      <td>Coca Cola</td>\n",
              "      <td>10</td>\n",
              "    </tr>\n",
              "    <tr>\n",
              "      <th>1</th>\n",
              "      <td>2</td>\n",
              "      <td>Corona</td>\n",
              "      <td>20</td>\n",
              "    </tr>\n",
              "    <tr>\n",
              "      <th>2</th>\n",
              "      <td>3</td>\n",
              "      <td>Miller</td>\n",
              "      <td>30</td>\n",
              "    </tr>\n",
              "    <tr>\n",
              "      <th>3</th>\n",
              "      <td>4</td>\n",
              "      <td>Budweiser</td>\n",
              "      <td>40</td>\n",
              "    </tr>\n",
              "    <tr>\n",
              "      <th>4</th>\n",
              "      <td>5</td>\n",
              "      <td>LoveIs</td>\n",
              "      <td>50</td>\n",
              "    </tr>\n",
              "  </tbody>\n",
              "</table>\n",
              "</div>"
            ],
            "text/plain": [
              "   brand_id       name  score\n",
              "0         1  Coca Cola     10\n",
              "1         2     Corona     20\n",
              "2         3     Miller     30\n",
              "3         4  Budweiser     40\n",
              "4         5     LoveIs     50"
            ]
          },
          "execution_count": 9,
          "metadata": {},
          "output_type": "execute_result"
        }
      ],
      "source": [
        "df_brands = pd.DataFrame({'brand_id':[1,2,3,4,5],\n",
        "                         'name':['Coca Cola', 'Corona', 'Miller', 'Budweiser', 'LoveIs'],\n",
        "                         'score':[10,20,30,40,50]})\n",
        "df_brands"
      ]
    },
    {
      "cell_type": "code",
      "execution_count": 10,
      "metadata": {},
      "outputs": [
        {
          "name": "stdout",
          "output_type": "stream",
          "text": [
            "INSERT INTO brand (brand_id,name,score) VALUES ('1','Coca Cola','10');\n",
            "INSERT INTO brand (brand_id,name,score) VALUES ('2','Corona','20');\n",
            "INSERT INTO brand (brand_id,name,score) VALUES ('3','Miller','30');\n",
            "INSERT INTO brand (brand_id,name,score) VALUES ('4','Budweiser','40');\n",
            "INSERT INTO brand (brand_id,name,score) VALUES ('5','LoveIs','50');\n"
          ]
        }
      ],
      "source": [
        "# Create stage table for new products \n",
        "db_ops.connection.rollback()\n",
        "query = \"\"\"\n",
        "\n",
        "drop table if exists brand;\n",
        "\n",
        "CREATE TABLE \"brand\"(brand_id SERIAL PRIMARY KEY\n",
        "    , name VARCHAR(255)\n",
        "    , score VARCHAR(255)\n",
        ");\n",
        "\n",
        "\"\"\"\n",
        "db_ops.cursor.execute(query)\n",
        "db_ops.connection.commit()\n",
        "\n",
        "# Insert dataframe into table\n",
        "db_ops.add_df(df_brands, \"brand\")"
      ]
    }
  ],
  "metadata": {
    "kernelspec": {
      "display_name": "Python 3 (ipykernel)",
      "language": "python",
      "name": "python3"
    },
    "language_info": {
      "codemirror_mode": {
        "name": "ipython",
        "version": 3
      },
      "file_extension": ".py",
      "mimetype": "text/x-python",
      "name": "python",
      "nbconvert_exporter": "python",
      "pygments_lexer": "ipython3",
      "version": "3.10.12"
    }
  },
  "nbformat": 4,
  "nbformat_minor": 4
}
