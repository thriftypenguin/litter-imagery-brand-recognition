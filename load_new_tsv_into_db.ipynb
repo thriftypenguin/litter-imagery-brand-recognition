{
  "cells": [
    {
      "cell_type": "code",
      "execution_count": 1,
      "metadata": {},
      "outputs": [
        {
          "name": "stdout",
          "output_type": "stream",
          "text": [
            "Connecting to the PostgreSQL database...\n",
            "Connection successful\n"
          ]
        }
      ],
      "source": [
        "#import libraries\n",
        "import db_ops\n",
        "import pandas as pd"
      ]
    },
    {
      "cell_type": "markdown",
      "metadata": {},
      "source": [
        "## Load file with images, parse csv and fix some of the problems"
      ]
    },
    {
      "cell_type": "code",
      "execution_count": 4,
      "metadata": {
        "scrolled": true
      },
      "outputs": [
        {
          "name": "stdout",
          "output_type": "stream",
          "text": [
            "Total 27388 images. 27388 of them are unique\n"
          ]
        }
      ],
      "source": [
        "df = pd.read_excel('./data/final_output_with_images.xlsx')\n",
        "df = df.groupby('image_url', as_index=False).first() # Remove all duplicate images\n",
        "df.sort_values(by = 'id', inplace= True)             # Sort by ID\n",
        "df = df.rename(columns={'id':'olm_id'})              # Rename ID column to olm_id to not confuse in the DB\n",
        "print(f\"Total {df['image_url'].count()} images. {df['image_url'].nunique()} of them are unique\")"
      ]
    },
    {
      "cell_type": "code",
      "execution_count": 8,
      "metadata": {},
      "outputs": [],
      "source": [
        "#Subset a df that only has image metadata, we will deal with catregories later\n",
        "pictures_df = df[['olm_id', 'verification', 'phone', 'date_taken', 'date_uploaded', 'lat', 'lon', 'picked up', 'address', 'total_litter', 'image_url']]"
      ]
    },
    {
      "cell_type": "code",
      "execution_count": 9,
      "metadata": {},
      "outputs": [
        {
          "name": "stderr",
          "output_type": "stream",
          "text": [
            "/tmp/ipykernel_146342/1241174448.py:2: SettingWithCopyWarning: \n",
            "A value is trying to be set on a copy of a slice from a DataFrame.\n",
            "Try using .loc[row_indexer,col_indexer] = value instead\n",
            "\n",
            "See the caveats in the documentation: https://pandas.pydata.org/pandas-docs/stable/user_guide/indexing.html#returning-a-view-versus-a-copy\n",
            "  pictures_df['image_url'] = pictures_df['image_url'].apply(lambda x: 's3://olm-pics-s3/' + x.split('.com/')[-1])\n"
          ]
        },
        {
          "data": {
            "text/html": [
              "<div>\n",
              "<style scoped>\n",
              "    .dataframe tbody tr th:only-of-type {\n",
              "        vertical-align: middle;\n",
              "    }\n",
              "\n",
              "    .dataframe tbody tr th {\n",
              "        vertical-align: top;\n",
              "    }\n",
              "\n",
              "    .dataframe thead th {\n",
              "        text-align: right;\n",
              "    }\n",
              "</style>\n",
              "<table border=\"1\" class=\"dataframe\">\n",
              "  <thead>\n",
              "    <tr style=\"text-align: right;\">\n",
              "      <th></th>\n",
              "      <th>olm_id</th>\n",
              "      <th>verification</th>\n",
              "      <th>phone</th>\n",
              "      <th>date_taken</th>\n",
              "      <th>date_uploaded</th>\n",
              "      <th>lat</th>\n",
              "      <th>lon</th>\n",
              "      <th>picked_up</th>\n",
              "      <th>address</th>\n",
              "      <th>total_litter</th>\n",
              "      <th>s3_uri</th>\n",
              "    </tr>\n",
              "  </thead>\n",
              "  <tbody>\n",
              "    <tr>\n",
              "      <th>32</th>\n",
              "      <td>4222</td>\n",
              "      <td>2</td>\n",
              "      <td>SAMSUNG-SM-J727A</td>\n",
              "      <td>12/12/17 11:27</td>\n",
              "      <td>1/25/18 17:59</td>\n",
              "      <td>29.456944</td>\n",
              "      <td>-98.422500</td>\n",
              "      <td>False</td>\n",
              "      <td>Warrior and Family Support Center, George Beac...</td>\n",
              "      <td>4</td>\n",
              "      <td>s3://olm-pics-s3/112/Pftq4550WzgZA5euhgIEsLHGs...</td>\n",
              "    </tr>\n",
              "    <tr>\n",
              "      <th>21</th>\n",
              "      <td>4223</td>\n",
              "      <td>2</td>\n",
              "      <td>SAMSUNG-SM-J727A</td>\n",
              "      <td>12/11/17 15:04</td>\n",
              "      <td>1/25/18 17:59</td>\n",
              "      <td>29.565833</td>\n",
              "      <td>-98.593889</td>\n",
              "      <td>False</td>\n",
              "      <td>Silicon Drive, San Antonio, Bexar County, Texa...</td>\n",
              "      <td>3</td>\n",
              "      <td>s3://olm-pics-s3/112/HKXafwXvrpBQjoWC9aPtSY8lT...</td>\n",
              "    </tr>\n",
              "    <tr>\n",
              "      <th>6</th>\n",
              "      <td>4227</td>\n",
              "      <td>2</td>\n",
              "      <td>Unknown</td>\n",
              "      <td>1/25/18 18:24</td>\n",
              "      <td>1/25/18 18:24</td>\n",
              "      <td>29.455317</td>\n",
              "      <td>-98.424719</td>\n",
              "      <td>False</td>\n",
              "      <td>Binz-Engleman Road, San Antonio, Bexar County,...</td>\n",
              "      <td>5</td>\n",
              "      <td>s3://olm-pics-s3/112/69M58FGWNVp1ZTObF0YmkMfGN...</td>\n",
              "    </tr>\n",
              "  </tbody>\n",
              "</table>\n",
              "</div>"
            ],
            "text/plain": [
              "    olm_id  verification             phone      date_taken  date_uploaded  \\\n",
              "32    4222             2  SAMSUNG-SM-J727A  12/12/17 11:27  1/25/18 17:59   \n",
              "21    4223             2  SAMSUNG-SM-J727A  12/11/17 15:04  1/25/18 17:59   \n",
              "6     4227             2           Unknown   1/25/18 18:24  1/25/18 18:24   \n",
              "\n",
              "          lat        lon  picked_up  \\\n",
              "32  29.456944 -98.422500      False   \n",
              "21  29.565833 -98.593889      False   \n",
              "6   29.455317 -98.424719      False   \n",
              "\n",
              "                                              address  total_litter  \\\n",
              "32  Warrior and Family Support Center, George Beac...             4   \n",
              "21  Silicon Drive, San Antonio, Bexar County, Texa...             3   \n",
              "6   Binz-Engleman Road, San Antonio, Bexar County,...             5   \n",
              "\n",
              "                                               s3_uri  \n",
              "32  s3://olm-pics-s3/112/Pftq4550WzgZA5euhgIEsLHGs...  \n",
              "21  s3://olm-pics-s3/112/HKXafwXvrpBQjoWC9aPtSY8lT...  \n",
              "6   s3://olm-pics-s3/112/69M58FGWNVp1ZTObF0YmkMfGN...  "
            ]
          },
          "execution_count": 9,
          "metadata": {},
          "output_type": "execute_result"
        }
      ],
      "source": [
        "# Replace imgae url with the correct s3 uri\n",
        "pictures_df['image_url'] = pictures_df['image_url'].apply(lambda x: 's3://olm-pics-s3/' + x.split('.com/')[-1])\n",
        "pictures_df = pictures_df.rename(columns={'image_url': 's3_uri', 'picked up':'picked_up'})\n",
        "\n",
        "# Convert picked up to bool\n",
        "pictures_df = pictures_df.rename(columns={'picked up':'picked_up'})\n",
        "pictures_df['picked_up'] = pictures_df['picked_up'].apply(lambda x: 1 if x == 'Yes' else 0).astype(bool)\n",
        "\n",
        "# Convert total litter into an integer\n",
        "pictures_df['total_litter'] = pictures_df['total_litter'].fillna(0)\n",
        "pictures_df['total_litter'] = pictures_df['total_litter'].astype(int)\n",
        "\n",
        "# Sanitize address string\n",
        "pictures_df['address'] = pictures_df['address'].apply(lambda x: x.replace(\"'\", \"\"))\n",
        "pictures_df.head(3)"
      ]
    },
    {
      "cell_type": "code",
      "execution_count": 11,
      "metadata": {},
      "outputs": [],
      "source": [
        "# Create stage table for images \n",
        "db_ops.connection.rollback()\n",
        "query = \"\"\"\n",
        "\n",
        "drop table if exists image;\n",
        "\n",
        "CREATE TABLE \"image\"(image_id SERIAL PRIMARY KEY\n",
        "                    ,olm_id INTEGER\n",
        "                    ,verification SMALLINT\n",
        "                    ,phone VARCHAR(30)\n",
        "                    ,date_taken TIMESTAMP\n",
        "                    ,date_uploaded TIMESTAMP\n",
        "                    ,lat NUMERIC(15,12)\n",
        "                    ,lon NUMERIC(15,12)\n",
        "                    ,picked_up BOOL\n",
        "                    ,address VARCHAR(255)\n",
        "                    ,total_litter SMALLINT\n",
        "                    ,s3_uri VARCHAR(255)\n",
        ");\n",
        "\n",
        "\"\"\"\n",
        "db_ops.cursor.execute(query)\n",
        "db_ops.connection.commit()"
      ]
    },
    {
      "cell_type": "code",
      "execution_count": 23,
      "metadata": {},
      "outputs": [],
      "source": [
        "# Insert the df to this table\n",
        "# Create a list of tupples from the dataframe values\n",
        "tuples = [tuple(x) for x in pictures_df.to_numpy()]\n",
        "# Comma-separated dataframe columns\n",
        "cols = ','.join(list(pictures_df.columns))\n",
        "# SQL quert to execute\n",
        "query = \"INSERT INTO %s(%s) VALUES(%%s,%%s,%%s, %%s,%%s,%%s,%%s,%%s,%%s,%%s,%%s)\" % (\"image\", cols)\n",
        "cursor = db_ops.connection.cursor()\n",
        "cursor.executemany(query, tuples)\n",
        "db_ops.connection.commit()\n"
      ]
    },
    {
      "cell_type": "markdown",
      "metadata": {},
      "source": [
        "## Brands table"
      ]
    },
    {
      "cell_type": "code",
      "execution_count": 3,
      "metadata": {},
      "outputs": [
        {
          "name": "stdout",
          "output_type": "stream",
          "text": [
            "INSERT INTO brand (brand_id,name,score) VALUES ('1','Coca Cola','10');\n",
            "INSERT INTO brand (brand_id,name,score) VALUES ('2','Corona','20');\n",
            "INSERT INTO brand (brand_id,name,score) VALUES ('3','Miller','30');\n",
            "INSERT INTO brand (brand_id,name,score) VALUES ('4','Budweiser','40');\n",
            "INSERT INTO brand (brand_id,name,score) VALUES ('5','LoveIs','50');\n",
            "INSERT INTO brand (brand_id,name,score) VALUES ('6','Snapple','100');\n"
          ]
        }
      ],
      "source": [
        "melt_df = pd.melt(df, id_vars=['A'], value_vars=['B', 'C'])"
      ]
    }
  ],
  "metadata": {
    "kernelspec": {
      "display_name": "Python 3 (ipykernel)",
      "language": "python",
      "name": "python3"
    },
    "language_info": {
      "codemirror_mode": {
        "name": "ipython",
        "version": 3
      },
      "file_extension": ".py",
      "mimetype": "text/x-python",
      "name": "python",
      "nbconvert_exporter": "python",
      "pygments_lexer": "ipython3",
      "version": "3.10.12"
    }
  },
  "nbformat": 4,
  "nbformat_minor": 4
}
