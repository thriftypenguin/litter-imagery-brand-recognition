{
 "cells": [
  {
   "cell_type": "markdown",
   "metadata": {},
   "source": [
    "# Imports"
   ]
  },
  {
   "cell_type": "code",
   "execution_count": 12,
   "metadata": {},
   "outputs": [],
   "source": [
    "import os\n",
    "import pandas as pd"
   ]
  },
  {
   "cell_type": "markdown",
   "metadata": {},
   "source": [
    "# Combine Data Files"
   ]
  },
  {
   "cell_type": "code",
   "execution_count": 13,
   "metadata": {},
   "outputs": [],
   "source": [
    "data_frames = []\n",
    "\n",
    "for file_name in os.listdir(\"./data/States\"):\n",
    "    file_path = os.path.join(\"./data/States\", file_name)\n",
    "    df = pd.read_csv(file_path, low_memory=False)\n",
    "    data_frames.append(df)\n",
    "\n",
    "for file_name in os.listdir(\"./data/Maryland\"):\n",
    "    file_path = os.path.join(\"./data/Maryland\", file_name)\n",
    "    df = pd.read_csv(file_path, low_memory=False)\n",
    "    data_frames.append(df)\n",
    "\n",
    "combined_df = pd.concat(data_frames, ignore_index=True)\n"
   ]
  },
  {
   "cell_type": "markdown",
   "metadata": {},
   "source": [
    "# Add Link Field and Filter"
   ]
  },
  {
   "cell_type": "code",
   "execution_count": 14,
   "metadata": {},
   "outputs": [],
   "source": [
    "combined_df['link'] = combined_df.apply(\n",
    "    lambda row: f\"https://openlittermap.com/global?lat={row['lat']}&lon={row['lon']}&zoom=17&photo={row['id']}\",\n",
    "    axis=1\n",
    ")\n",
    "\n",
    "# List of columns to check for values greater than 0\n",
    "columns_to_check = [\n",
    "    \"cigaretteBox\", \"filterbox\", \"sweetWrappers\", \"paperFoodPackaging\", \"plasticFoodPackaging\",\n",
    "    \"crisp_small\", \"crisp_large\", \"sauce_packet\", \"glass_jar\", \"glass_jar_lid\", \"foodOther\", \n",
    "    \"pizza_box\", \"coffeeCups\", \"coffeeOther\", \"beerCan\", \"beerBottle\", \"spiritBottle\", \n",
    "    \"wineBottle\", \"bottleTops\", \"paperCardAlcoholPackaging\", \"pint\", \"plasticAlcoholPackaging\",\n",
    "    \"alcohol_plastic_cups\", \"alcoholOther\", \"waterBottle\", \"fizzyDrinkBottle\", \"bottleLid\",\n",
    "    \"bottleLabel\", \"tinCan\", \"sportsDrink\", \"plastic_cups\", \"plastic_cup_tops\", \"milk_bottle\", \n",
    "    \"milk_carton\", \"paper_cups\", \"juice_cartons\", \"juice_bottles\", \"juice_packet\", \"ice_tea_bottles\",\n",
    "    \"ice_tea_can\", \"energy_can\", \"softDrinkOther\", \"hand_sanitiser\", \"aadrink\", \"acadia\", \"adidas\",\n",
    "    \"albertheijn\", \"aldi\", \"amazon\", \"amstel\", \"anheuser_busch\", \"apple\", \"applegreen\", \"asahi\",\n",
    "    \"avoca\", \"bacardi\", \"ballygowan\", \"bewleys\", \"brambles\", \"budweiser\", \"bulmers\", \"bullit\",\n",
    "    \"burgerking\", \"butlers\", \"cadburys\", \"cafe_nero\", \"calanda\", \"camel\", \"caprisun\", \"carlsberg\",\n",
    "    \"centra\", \"coke\", \"circlek\", \"coles\", \"colgate\", \"corona\", \"costa\", \"doritos\", \"drpepper\",\n",
    "    \"dunnes\", \"duracell\", \"durex\", \"evian\", \"esquires\", \"fanta\", \"fernandes\", \"fosters\",\n",
    "    \"frank_and_honest\", \"fritolay\", \"gatorade\", \"gillette\", \"goldenpower\", \"guinness\", \"haribo\",\n",
    "    \"heineken\", \"hertog_jan\", \"insomnia\", \"kellogs\", \"kfc\", \"lavish\", \"lego\", \"lidl\", \"lindenvillage\",\n",
    "    \"lipton\", \"lolly_and_cookes\", \"loreal\", \"lucozade\", \"marlboro\", \"mars\", \"mcdonalds\", \"modelo\",\n",
    "    \"molson_coors\", \"monster\", \"nero\", \"nescafe\", \"nestle\", \"nike\", \"obriens\", \"ok_\", \"pepsi\",\n",
    "    \"powerade\", \"redbull\", \"ribena\", \"samsung\", \"sainsburys\", \"schutters\", \"seven_eleven\",\n",
    "    \"slammers\", \"spa\", \"spar\", \"stella\", \"subway\", \"supermacs\", \"supervalu\", \"starbucks\", \"tayto\",\n",
    "    \"tesco\", \"tim_hortons\", \"thins\", \"volvic\", \"waitrose\", \"walkers\", \"wendys\", \"woolworths\",\n",
    "    \"wilde_and_greene\", \"winston\", \"wrigleys\", \"bags_litter\", \"books\", \"magazine\", \"batteries\", \"deodorant\", \"plastic_bags\"\n",
    "]\n",
    "\n",
    "# Filter for rows where any of the specified columns have values greater than 0\n",
    "condition1 = (combined_df[columns_to_check] > 0).any(axis=1)\n",
    "\n",
    "# Get the columns after the 11th column\n",
    "columns_after_11th = combined_df.columns[11:-4]\n",
    "\n",
    "# Filter for rows where all columns after the 11th column are 0\n",
    "condition2 = (combined_df[columns_after_11th].fillna(0) == 0).all(axis=1)\n",
    "\n",
    "# Combine both conditions\n",
    "combined_df = combined_df[condition1 | condition2]"
   ]
  },
  {
   "cell_type": "markdown",
   "metadata": {},
   "source": [
    "# Save File"
   ]
  },
  {
   "cell_type": "code",
   "execution_count": 16,
   "metadata": {},
   "outputs": [],
   "source": [
    "combined_df.to_csv('./data/combined_tabular_data.csv', index=False)"
   ]
  }
 ],
 "metadata": {
  "kernelspec": {
   "display_name": "Python 3.10.9 ('base')",
   "language": "python",
   "name": "python3"
  },
  "language_info": {
   "codemirror_mode": {
    "name": "ipython",
    "version": 3
   },
   "file_extension": ".py",
   "mimetype": "text/x-python",
   "name": "python",
   "nbconvert_exporter": "python",
   "pygments_lexer": "ipython3",
   "version": "3.10.9"
  },
  "orig_nbformat": 4,
  "vscode": {
   "interpreter": {
    "hash": "af46d77f25f6268fb52e7aa039aee65944f4abeb7c36e07a63c4427d9c88eec5"
   }
  }
 },
 "nbformat": 4,
 "nbformat_minor": 2
}
