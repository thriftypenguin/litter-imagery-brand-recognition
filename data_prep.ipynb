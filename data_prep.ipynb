{
 "cells": [
  {
   "cell_type": "markdown",
   "metadata": {},
   "source": [
    "# Imports"
   ]
  },
  {
   "cell_type": "code",
   "execution_count": 1,
   "metadata": {},
   "outputs": [],
   "source": [
    "import os\n",
    "import pandas as pd"
   ]
  },
  {
   "cell_type": "markdown",
   "metadata": {},
   "source": [
    "# Combine Data Files"
   ]
  },
  {
   "cell_type": "code",
   "execution_count": 2,
   "metadata": {},
   "outputs": [],
   "source": [
    "data_frames = []\n",
    "\n",
    "for file_name in os.listdir(\"./data/States\"):\n",
    "    file_path = os.path.join(\"./data/States\", file_name)\n",
    "    df = pd.read_csv(file_path, low_memory=False)\n",
    "    data_frames.append(df)\n",
    "\n",
    "for file_name in os.listdir(\"./data/Maryland\"):\n",
    "    file_path = os.path.join(\"./data/Maryland\", file_name)\n",
    "    df = pd.read_csv(file_path, low_memory=False)\n",
    "    data_frames.append(df)\n",
    "\n",
    "combined_df = pd.concat(data_frames, ignore_index=True)\n"
   ]
  },
  {
   "cell_type": "markdown",
   "metadata": {},
   "source": [
    "# Add Link Field and Filter"
   ]
  },
  {
   "cell_type": "code",
   "execution_count": 3,
   "metadata": {},
   "outputs": [],
   "source": [
    "combined_df['link'] = combined_df.apply(\n",
    "    lambda row: f\"https://openlittermap.com/global?lat={row['lat']}&lon={row['lon']}&zoom=17&photo={row['id']}\",\n",
    "    axis=1\n",
    ")\n",
    "\n",
    "# List of columns to check for values greater than 0\n",
    "columns_to_check = items = [\n",
    "    \"aadrink\", \"acadia\", \"adidas\", \"albertheijn\", \"aldi\", \"amazon\", \"amstel\", \n",
    "    \"anheuser_busch\", \"apple\", \"applegreen\", \"asahi\", \"avoca\", \"bacardi\", \n",
    "    \"ballygowan\", \"bewleys\", \"brambles\", \"budweiser\", \"bulmers\", \"bullit\", \n",
    "    \"burgerking\", \"butlers\", \"cadburys\", \"cafe_nero\", \"calanda\", \"camel\", \n",
    "    \"caprisun\", \"carlsberg\", \"centra\", \"coke\", \"circlek\", \"coles\", \"colgate\", \n",
    "    \"corona\", \"costa\", \"doritos\", \"drpepper\", \"dunnes\", \"duracell\", \"durex\", \n",
    "    \"evian\", \"esquires\", \"fanta\", \"fernandes\", \"fosters\", \"frank_and_honest\", \n",
    "    \"fritolay\", \"gatorade\", \"gillette\", \"goldenpower\", \"guinness\", \"haribo\", \n",
    "    \"heineken\", \"hertog_jan\", \"insomnia\", \"kellogs\", \"kfc\", \"lavish\", \"lego\", \n",
    "    \"lidl\", \"lindenvillage\", \"lipton\", \"lolly_and_cookes\", \"loreal\", \"lucozade\", \n",
    "    \"marlboro\", \"mars\", \"mcdonalds\", \"modelo\", \"molson_coors\", \"monster\", \"nero\", \n",
    "    \"nescafe\", \"nestle\", \"nike\", \"obriens\", \"ok_\", \"pepsi\", \"powerade\", \"redbull\", \n",
    "    \"ribena\", \"samsung\", \"sainsburys\", \"schutters\", \"seven_eleven\", \"slammers\", \n",
    "    \"spa\", \"spar\", \"stella\", \"subway\", \"supermacs\", \"supervalu\", \"starbucks\", \n",
    "    \"tayto\", \"tesco\", \"tim_hortons\", \"thins\", \"volvic\", \"waitrose\", \"walkers\", \n",
    "    \"wendys\", \"woolworths\", \"wilde_and_greene\", \"winston\", \"wrigleys\",\n",
    "    \"cigaretteBox\", \"vape_pen\", \"vape_oil\", \"sweetWrappers\", \"paperFoodPackaging\", \n",
    "    \"plasticFoodPackaging\", \"plasticCutlery\", \"crisp_small\", \"crisp_large\", \n",
    "    \"glass_jar\", \"foodOther\", \"pizza_box\", \"aluminium_foil\", \"chewing_gum\", \n",
    "    \"coffeeCups\", \"coffeeLids\", \"beerCan\", \"beerBottle\", \"spiritBottle\", \"wineBottle\", \n",
    "    \"plasticAlcoholPackaging\", \"waterBottle\", \"fizzyDrinkBottle\", \"bottleLabel\", \n",
    "    \"sportsDrink\", \"plastic_cups\", \"plastic_cup_tops\", \"milk_bottle\", \"milk_carton\", \n",
    "    \"paper_cups\", \"juice_cartons\", \"juice_bottles\", \"juice_packet\", \"ice_tea_bottles\", \n",
    "    \"ice_tea_can\", \"energy_can\", \"deodorant\", \"hand_sanitiser\"\n",
    "]\n",
    "\n",
    "# Filter for rows where any of the specified columns have values greater than 0\n",
    "condition1 = (combined_df[columns_to_check] > 0).any(axis=1)\n",
    "\n",
    "# Get the columns after the 11th column\n",
    "columns_after_11th = combined_df.columns[11:-4]\n",
    "\n",
    "# Filter for rows where all columns after the 11th column are 0\n",
    "condition2 = (combined_df[columns_after_11th].fillna(0) == 0).all(axis=1)\n",
    "\n",
    "# Combine both conditions\n",
    "combined_df = combined_df[condition1 | condition2]"
   ]
  },
  {
   "cell_type": "markdown",
   "metadata": {},
   "source": [
    "# Save File"
   ]
  },
  {
   "cell_type": "code",
   "execution_count": 4,
   "metadata": {},
   "outputs": [],
   "source": [
    "combined_df.to_csv('./data/combined_tabular_data.csv', index=False)"
   ]
  }
 ],
 "metadata": {
  "kernelspec": {
   "display_name": "Python 3.10.9 ('base')",
   "language": "python",
   "name": "python3"
  },
  "language_info": {
   "codemirror_mode": {
    "name": "ipython",
    "version": 3
   },
   "file_extension": ".py",
   "mimetype": "text/x-python",
   "name": "python",
   "nbconvert_exporter": "python",
   "pygments_lexer": "ipython3",
   "version": "3.10.9"
  },
  "orig_nbformat": 4,
  "vscode": {
   "interpreter": {
    "hash": "af46d77f25f6268fb52e7aa039aee65944f4abeb7c36e07a63c4427d9c88eec5"
   }
  }
 },
 "nbformat": 4,
 "nbformat_minor": 2
}
