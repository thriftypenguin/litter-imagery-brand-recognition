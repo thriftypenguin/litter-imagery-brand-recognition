{
  "cells": [
    {
      "cell_type": "code",
      "execution_count": 1,
      "metadata": {
        "colab": {
          "base_uri": "https://localhost:8080/"
        },
        "id": "VDa7wJ8v8HzX",
        "outputId": "f486c6f9-9aec-451c-e340-f2a72c09c730"
      },
      "outputs": [
        {
          "name": "stdout",
          "output_type": "stream",
          "text": [
            "Requirement already satisfied: roboflow in /usr/local/lib/python3.10/dist-packages (1.1.34)\n",
            "Requirement already satisfied: certifi in /usr/local/lib/python3.10/dist-packages (from roboflow) (2024.7.4)\n",
            "Requirement already satisfied: chardet==4.0.0 in /usr/local/lib/python3.10/dist-packages (from roboflow) (4.0.0)\n",
            "Requirement already satisfied: idna==3.7 in /usr/local/lib/python3.10/dist-packages (from roboflow) (3.7)\n",
            "Requirement already satisfied: cycler in /usr/local/lib/python3.10/dist-packages (from roboflow) (0.12.1)\n",
            "Requirement already satisfied: kiwisolver>=1.3.1 in /usr/local/lib/python3.10/dist-packages (from roboflow) (1.4.5)\n",
            "Requirement already satisfied: matplotlib in /usr/local/lib/python3.10/dist-packages (from roboflow) (3.7.1)\n",
            "Requirement already satisfied: numpy>=1.18.5 in /usr/local/lib/python3.10/dist-packages (from roboflow) (1.25.2)\n",
            "Requirement already satisfied: opencv-python-headless==4.10.0.84 in /usr/local/lib/python3.10/dist-packages (from roboflow) (4.10.0.84)\n",
            "Requirement already satisfied: Pillow>=7.1.2 in /usr/local/lib/python3.10/dist-packages (from roboflow) (9.4.0)\n",
            "Requirement already satisfied: python-dateutil in /usr/local/lib/python3.10/dist-packages (from roboflow) (2.8.2)\n",
            "Requirement already satisfied: python-dotenv in /usr/local/lib/python3.10/dist-packages (from roboflow) (1.0.1)\n",
            "Requirement already satisfied: requests in /usr/local/lib/python3.10/dist-packages (from roboflow) (2.31.0)\n",
            "Requirement already satisfied: six in /usr/local/lib/python3.10/dist-packages (from roboflow) (1.16.0)\n",
            "Requirement already satisfied: urllib3>=1.26.6 in /usr/local/lib/python3.10/dist-packages (from roboflow) (2.0.7)\n",
            "Requirement already satisfied: tqdm>=4.41.0 in /usr/local/lib/python3.10/dist-packages (from roboflow) (4.66.4)\n",
            "Requirement already satisfied: PyYAML>=5.3.1 in /usr/local/lib/python3.10/dist-packages (from roboflow) (6.0.1)\n",
            "Requirement already satisfied: requests-toolbelt in /usr/local/lib/python3.10/dist-packages (from roboflow) (1.0.0)\n",
            "Requirement already satisfied: python-magic in /usr/local/lib/python3.10/dist-packages (from roboflow) (0.4.27)\n",
            "Requirement already satisfied: contourpy>=1.0.1 in /usr/local/lib/python3.10/dist-packages (from matplotlib->roboflow) (1.2.1)\n",
            "Requirement already satisfied: fonttools>=4.22.0 in /usr/local/lib/python3.10/dist-packages (from matplotlib->roboflow) (4.53.1)\n",
            "Requirement already satisfied: packaging>=20.0 in /usr/local/lib/python3.10/dist-packages (from matplotlib->roboflow) (24.1)\n",
            "Requirement already satisfied: pyparsing>=2.3.1 in /usr/local/lib/python3.10/dist-packages (from matplotlib->roboflow) (3.1.2)\n",
            "Requirement already satisfied: charset-normalizer<4,>=2 in /usr/local/lib/python3.10/dist-packages (from requests->roboflow) (3.3.2)\n",
            "loading Roboflow workspace...\n",
            "loading Roboflow project...\n",
            "[WARNING] we noticed you are downloading a `yolov8` datasets but you don't have `ultralytics` installed. Roboflow `.deploy` supports only models trained with `ultralytics==8.0.196`, to intall it `pip install ultralytics==8.0.196`.\n"
          ]
        }
      ],
      "source": [
        "!pip install roboflow\n",
        "\n",
        "from google.colab.patches import cv2_imshow\n",
        "from roboflow import Roboflow\n",
        "\n",
        "import albumentations\n",
        "import csv\n",
        "import cv2\n",
        "import numpy as np\n",
        "import pandas as pd\n",
        "import random\n",
        "\n",
        "rf = Roboflow(api_key=\"7iSKeb2wji6f2yncPgIQ\")\n",
        "project = rf.workspace().project(\"capstone_olm_logo_recognition\")\n",
        "dataset = project.version(1).download(\"yolov8\")"
      ]
    },
    {
      "cell_type": "code",
      "execution_count": 1,
      "metadata": {
        "colab": {
          "base_uri": "https://localhost:8080/",
          "height": 615
        },
        "id": "XqiuEZV68gq-",
        "outputId": "0b338b7b-240b-4942-9de7-2932a6316967"
      },
      "outputs": [],
      "source": [
        "import albumentations\n",
        "import cv2\n",
        "import csv\n",
        "import numpy as np\n",
        "import random\n",
        "\n",
        "# Image and Label Path\n",
        "img_name = '112_Gq5m3KeQJUFNOCzkltNk9t92ucUgueWt9dVVTxUk_jpg.rf.24dd075073cdcefce324a6468c515818'\n",
        "image_path = '/Users/nickjohnson/downloads/Capstone_OLM_Logo_Recognition.v4i.yolov8/train/images/'+img_name+'.jpg'\n",
        "image = cv2.imread(image_path)\n",
        "img_height, img_width, _ = image.shape\n",
        "\n",
        "def get_bb_params(img_name):\n",
        "    bb_output = []\n",
        "    with open('/Users/nickjohnson/downloads/Capstone_OLM_Logo_Recognition.v4i.yolov8/train/labels/'+img_name+'.txt', 'r') as fd:\n",
        "        reader = csv.reader(fd)\n",
        "        for bounding_boxes in reader:\n",
        "            bounding_boxes = bounding_boxes[0].split(\" \")\n",
        "            bounding_boxes = [float(x) for x in bounding_boxes]\n",
        "            class_id, center_x, center_y, bbox_width, bbox_height = bounding_boxes\n",
        "\n",
        "            l = (center_x - bbox_width / 2) * img_width\n",
        "            r = (center_x + bbox_width / 2) * img_width\n",
        "            t = (center_y - bbox_height / 2) * img_height\n",
        "            b = (center_y + bbox_height / 2) * img_height\n",
        "\n",
        "            bb_output.append([l, t, r, b, class_id])\n",
        "    return bb_output\n",
        "\n",
        "def apply_augmentation(transformation, image, bb_params):\n",
        "    transformed = transformation(image=image, bboxes=bb_params, class_labels=[int(x[-1]) for x in bb_params])\n",
        "    transformed_image = transformed['image']\n",
        "    transformed_bboxes = transformed['bboxes']\n",
        "\n",
        "    for box in transformed_bboxes:\n",
        "        l, t, r, b, class_id = box\n",
        "        cv2.rectangle(transformed_image, (int(l), int(t)), (int(r), int(b)), (255, 0, 0), 2)\n",
        "    \n",
        "    return transformed_image\n",
        "\n",
        "# Define the augmentation pipeline\n",
        "rotation_degrees = random.randint(45, 270)\n",
        "transform = albumentations.Compose([\n",
        "    albumentations.HorizontalFlip(p=0.5),\n",
        "    albumentations.RandomBrightnessContrast(p=0.5),\n",
        "    albumentations.Rotate(limit=(rotation_degrees, rotation_degrees), p=1),\n",
        "], bbox_params=albumentations.BboxParams(format='pascal_voc', label_fields=['class_labels']))\n",
        "\n",
        "# Load bounding box parameters\n",
        "bounding_box_parameters = get_bb_params(img_name)\n",
        "\n",
        "# Apply augmentation\n",
        "augmented_image = apply_augmentation(transform, image, bounding_box_parameters)\n",
        "\n",
        "# Display the augmented image with bounding boxes\n",
        "cv2.imshow('Augmented Image', augmented_image)\n",
        "cv2.waitKey(0)\n",
        "cv2.destroyAllWindows()"
      ]
    }
  ],
  "metadata": {
    "colab": {
      "provenance": []
    },
    "kernelspec": {
      "display_name": "Python 3",
      "name": "python3"
    },
    "language_info": {
      "codemirror_mode": {
        "name": "ipython",
        "version": 3
      },
      "file_extension": ".py",
      "mimetype": "text/x-python",
      "name": "python",
      "nbconvert_exporter": "python",
      "pygments_lexer": "ipython3",
      "version": "3.11.8"
    }
  },
  "nbformat": 4,
  "nbformat_minor": 0
}
