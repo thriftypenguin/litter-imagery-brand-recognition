{
 "cells": [
  {
   "cell_type": "code",
   "execution_count": 2,
   "metadata": {},
   "outputs": [
    {
     "name": "stdout",
     "output_type": "stream",
     "text": [
      "Collecting thefuzz\n",
      "  Downloading thefuzz-0.22.1-py3-none-any.whl.metadata (3.9 kB)\n",
      "Collecting rapidfuzz<4.0.0,>=3.0.0 (from thefuzz)\n",
      "  Downloading rapidfuzz-3.9.4-cp311-cp311-win_amd64.whl.metadata (12 kB)\n",
      "Downloading thefuzz-0.22.1-py3-none-any.whl (8.2 kB)\n",
      "Downloading rapidfuzz-3.9.4-cp311-cp311-win_amd64.whl (1.6 MB)\n",
      "   ---------------------------------------- 0.0/1.6 MB ? eta -:--:--\n",
      "   -- ------------------------------------- 0.1/1.6 MB 2.6 MB/s eta 0:00:01\n",
      "   ---------- ----------------------------- 0.4/1.6 MB 4.4 MB/s eta 0:00:01\n",
      "   -------------------- ------------------- 0.8/1.6 MB 6.5 MB/s eta 0:00:01\n",
      "   ----------------------------------- ---- 1.4/1.6 MB 9.1 MB/s eta 0:00:01\n",
      "   ---------------------------------------- 1.6/1.6 MB 7.9 MB/s eta 0:00:00\n",
      "Installing collected packages: rapidfuzz, thefuzz\n",
      "Successfully installed rapidfuzz-3.9.4 thefuzz-0.22.1\n",
      "Note: you may need to restart the kernel to use updated packages.\n"
     ]
    },
    {
     "name": "stderr",
     "output_type": "stream",
     "text": [
      "\n",
      "[notice] A new release of pip is available: 24.0 -> 24.1.2\n",
      "[notice] To update, run: python.exe -m pip install --upgrade pip\n"
     ]
    }
   ],
   "source": [
    "%pip install thefuzz\n",
    "#%pip install psycopg2"
   ]
  },
  {
   "cell_type": "code",
   "execution_count": 3,
   "metadata": {},
   "outputs": [
    {
     "name": "stdout",
     "output_type": "stream",
     "text": [
      "Connecting to the PostgreSQL database...\n",
      "Connection successful\n"
     ]
    }
   ],
   "source": [
    "from thefuzz import fuzz\n",
    "import json\n",
    "import db_ops\n",
    "import os\n",
    "recieved_bran_name = \"Budlight\""
   ]
  },
  {
   "cell_type": "code",
   "execution_count": 13,
   "metadata": {},
   "outputs": [],
   "source": [
    "# Get the best matching brand from the DB\n",
    "# Query the database\n",
    "query = f'''\n",
    "SELECT brand_name \n",
    "FROM brand;\n",
    "'''\n",
    "cur = db_ops.cursor\n",
    "cur.execute(query)\n",
    "\n",
    "# Format response    \n",
    "response_list = cur.fetchall()\n",
    "brand_scores = {brand[0]:fuzz.ratio(recieved_bran_name, brand[0]) for brand in response_list}\n",
    "best_match = max(brand_scores, key=brand_scores.get)\n",
    "best_score = brand_scores[best_match]\n",
    "print(f\"Best match: {best_match}, scoring {best_score}\")"
   ]
  }
 ],
 "metadata": {
  "kernelspec": {
   "display_name": ".venv",
   "language": "python",
   "name": "python3"
  },
  "language_info": {
   "codemirror_mode": {
    "name": "ipython",
    "version": 3
   },
   "file_extension": ".py",
   "mimetype": "text/x-python",
   "name": "python",
   "nbconvert_exporter": "python",
   "pygments_lexer": "ipython3",
   "version": "3.11.9"
  }
 },
 "nbformat": 4,
 "nbformat_minor": 2
}
