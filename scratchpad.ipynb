{
 "cells": [
  {
   "cell_type": "code",
   "execution_count": 1,
   "metadata": {},
   "outputs": [],
   "source": [
    "# This is to create a cdk.json file to run the cdk app\n",
    "# It is needed to create the file with the correct formats of the paths, specific to the OS\n",
    "import os\n",
    "p = os.getcwd()\n",
    "python_path = os.path.join(p, \".venv\", \"Scripts\", \"python.exe\")\n",
    "app_path = os.path.join(p, \"stack_build.py\")\n",
    "\n",
    "import json \n",
    "out_file = open(\"cdk.json\", \"w\") \n",
    "  \n",
    "json.dump({'app': f'{python_path} {app_path}'}, out_file, indent = 4) \n",
    "  \n",
    "out_file.close() "
   ]
  },
  {
   "cell_type": "code",
   "execution_count": 2,
   "metadata": {},
   "outputs": [],
   "source": []
  },
  {
   "cell_type": "code",
   "execution_count": null,
   "metadata": {},
   "outputs": [],
   "source": []
  }
 ],
 "metadata": {
  "kernelspec": {
   "display_name": ".venv",
   "language": "python",
   "name": "python3"
  },
  "language_info": {
   "codemirror_mode": {
    "name": "ipython",
    "version": 3
   },
   "file_extension": ".py",
   "mimetype": "text/x-python",
   "name": "python",
   "nbconvert_exporter": "python",
   "pygments_lexer": "ipython3",
   "version": "3.12.1"
  }
 },
 "nbformat": 4,
 "nbformat_minor": 2
}
