{
 "cells": [
  {
   "cell_type": "code",
   "execution_count": 1,
   "metadata": {},
   "outputs": [],
   "source": [
    "import boto3, cv2, random, base64, json\n",
    "import matplotlib.pyplot as plt\n",
    "import numpy as np\n",
    "\n",
    "ENDPOINT_NAME = 'yolov8-pytorch-2024-07-18-21-09-58-005126' "
   ]
  },
  {
   "cell_type": "code",
   "execution_count": 6,
   "metadata": {},
   "outputs": [],
   "source": [
    "# Read the image into a numpy  array\n",
    "orig_image = cv2.imread('test_image.jpg')\n",
    "\n",
    "# Calculate the parameters for image resizing\n",
    "image_height, image_width, _ = orig_image.shape\n",
    "model_height, model_width = 640, 640\n",
    "x_ratio = image_width/model_width\n",
    "y_ratio = image_height/model_height\n",
    "\n",
    "# Resize the image as numpy array\n",
    "resized_image = cv2.resize(orig_image, (model_height, model_width))\n",
    "# Conver the array into jpeg\n",
    "resized_jpeg = cv2.imencode('.jpg', resized_image)[1]\n",
    "# Serialize the jpg using base 64\n",
    "payload = base64.b64encode(resized_jpeg)"
   ]
  },
  {
   "cell_type": "code",
   "execution_count": 10,
   "metadata": {},
   "outputs": [],
   "source": [
    "runtime= boto3.client('runtime.sagemaker')\n",
    "response = runtime.invoke_endpoint(EndpointName=ENDPOINT_NAME,\n",
    "                                        ContentType='text/csv',\n",
    "                                        Body=payload)\n",
    "response_body = response['Body'].read()\n",
    "result = json.loads(response_body.decode('ascii'))"
   ]
  },
  {
   "cell_type": "code",
   "execution_count": 11,
   "metadata": {},
   "outputs": [
    {
     "data": {
      "text/plain": [
       "{'boxes': [[407.208740234375,\n",
       "   303.0656433105469,\n",
       "   521.4520263671875,\n",
       "   402.5500793457031,\n",
       "   0.9264129400253296,\n",
       "   19.0],\n",
       "  [275.0853271484375,\n",
       "   233.8872833251953,\n",
       "   321.672119140625,\n",
       "   288.36688232421875,\n",
       "   0.8914034962654114,\n",
       "   25.0]]}"
      ]
     },
     "execution_count": 11,
     "metadata": {},
     "output_type": "execute_result"
    }
   ],
   "source": [
    "result"
   ]
  },
  {
   "cell_type": "code",
   "execution_count": 12,
   "metadata": {},
   "outputs": [],
   "source": [
    "\n",
    "if 'boxes' in result:\n",
    "    for idx,(x1,y1,x2,y2,conf,lbl) in enumerate(result['boxes']):\n",
    "        # Draw Bounding Boxes\n",
    "        x1, x2 = int(x_ratio*x1), int(x_ratio*x2)\n",
    "        y1, y2 = int(y_ratio*y1), int(y_ratio*y2)\n",
    "        color = (random.randint(10,255), random.randint(10,255), random.randint(10,255))\n",
    "        cv2.rectangle(orig_image, (x1,y1), (x2,y2), color, 4)\n",
    "        cv2.putText(orig_image, f\"Class: {int(lbl)}\", (x1,y1-40), cv2.FONT_HERSHEY_SIMPLEX, 1, color, 2, cv2.LINE_AA)\n",
    "        cv2.putText(orig_image, f\"Conf: {int(conf*100)}\", (x1,y1-10), cv2.FONT_HERSHEY_SIMPLEX, 1, color, 2, cv2.LINE_AA)\n",
    "        if 'masks' in result:\n",
    "            # Draw Masks\n",
    "            mask = cv2.resize(np.asarray(result['masks'][idx]), dsize=(image_width, image_height), interpolation=cv2.INTER_CUBIC)\n",
    "            for c in range(3):\n",
    "                orig_image[:,:,c] = np.where(mask>0.5, orig_image[:,:,c]*(0.5)+0.5*color[c], orig_image[:,:,c])\n",
    "\n",
    "if 'probs' in result:\n",
    "    # Find Class\n",
    "    lbl = result['probs'].index(max(result['probs']))\n",
    "    color = (random.randint(10,255), random.randint(10,255), random.randint(10,255))\n",
    "    cv2.putText(orig_image, f\"Class: {int(lbl)}\", (20,20), cv2.FONT_HERSHEY_SIMPLEX, 1, color, 2, cv2.LINE_AA)\n",
    "    \n",
    "if 'keypoints' in result:\n",
    "    # Define the colors for the keypoints and lines\n",
    "    keypoint_color = (random.randint(10,255), random.randint(10,255), random.randint(10,255))\n",
    "    line_color = (random.randint(10,255), random.randint(10,255), random.randint(10,255))\n",
    "\n",
    "    # Define the keypoints and the lines to draw\n",
    "    # keypoints = keypoints_array[:, :, :2]  # Ignore the visibility values\n",
    "    lines = [\n",
    "        (0, 1), (0, 2), (1, 3), (2, 4),  # Head\n",
    "        (5, 6), (5, 7), (7, 9), (6, 8), (8, 10),  # Torso\n",
    "        (11, 12), (11, 13), (13, 15), (12, 14), (14, 16)  # Legs\n",
    "    ]\n",
    "\n",
    "    # Draw the keypoints and the lines on the image\n",
    "    for keypoints_instance in result['keypoints']:\n",
    "        # Draw the keypoints\n",
    "        for keypoint in keypoints_instance:\n",
    "            if keypoint[2] == 0:  # If the keypoint is not visible, skip it\n",
    "                continue\n",
    "            cv2.circle(orig_image, (int(x_ratio*keypoint[:2][0]),int(y_ratio*keypoint[:2][1])), radius=5, color=keypoint_color, thickness=-1)\n",
    "\n",
    "        # Draw the lines\n",
    "        for line in lines:\n",
    "            start_keypoint = keypoints_instance[line[0]]\n",
    "            end_keypoint = keypoints_instance[line[1]]\n",
    "            if start_keypoint[2] == 0 or end_keypoint[2] == 0:  # If any of the keypoints is not visible, skip the line\n",
    "                continue\n",
    "            cv2.line(orig_image, (int(x_ratio*start_keypoint[:2][0]),int(y_ratio*start_keypoint[:2][1])),(int(x_ratio*end_keypoint[:2][0]),int(y_ratio*end_keypoint[:2][1])), color=line_color, thickness=2)\n",
    "\n"
   ]
  },
  {
   "cell_type": "code",
   "execution_count": 13,
   "metadata": {},
   "outputs": [],
   "source": [
    "im_w_boxes = cv2.cvtColor(orig_image, cv2.COLOR_BGR2RGB)\n",
    "result['image'] = base64.b64encode(im_w_boxes).decode('utf-8')"
   ]
  },
  {
   "cell_type": "code",
   "execution_count": null,
   "metadata": {},
   "outputs": [],
   "source": [
    "json.dumps(result)"
   ]
  },
  {
   "cell_type": "code",
   "execution_count": null,
   "metadata": {},
   "outputs": [],
   "source": []
  }
 ],
 "metadata": {
  "kernelspec": {
   "display_name": "opencv",
   "language": "python",
   "name": "python3"
  },
  "language_info": {
   "codemirror_mode": {
    "name": "ipython",
    "version": 3
   },
   "file_extension": ".py",
   "mimetype": "text/x-python",
   "name": "python",
   "nbconvert_exporter": "python",
   "pygments_lexer": "ipython3",
   "version": "3.12.1"
  }
 },
 "nbformat": 4,
 "nbformat_minor": 2
}
