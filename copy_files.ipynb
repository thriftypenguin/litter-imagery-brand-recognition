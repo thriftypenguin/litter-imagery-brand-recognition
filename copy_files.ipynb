{
 "cells": [
  {
   "cell_type": "code",
   "execution_count": 3,
   "metadata": {},
   "outputs": [],
   "source": [
    "!source .venv/bin/activate"
   ]
  },
  {
   "cell_type": "code",
   "execution_count": 4,
   "metadata": {},
   "outputs": [],
   "source": [
    "import os\n",
    "import pandas as pd"
   ]
  },
  {
   "cell_type": "code",
   "execution_count": 43,
   "metadata": {},
   "outputs": [
    {
     "name": "stdout",
     "output_type": "stream",
     "text": [
      "Total 28397 images. 27388 of them are unique\n"
     ]
    }
   ],
   "source": [
    "df = pd.read_excel('./data/final_output_with_images.xlsx')[['id','image_url']].dropna(axis = 0)\n",
    "df['path'] = df['image_url'].apply(lambda x: x.split('com/')[1])\n",
    "print(f\"Total {df['id'].count()} images. {df['path'].nunique()} of them are unique\")\n"
   ]
  },
  {
   "cell_type": "code",
   "execution_count": 45,
   "metadata": {},
   "outputs": [
    {
     "data": {
      "text/plain": [
       "path\n",
       "1970/01/19/IMG_0944.HEIC    3.0\n",
       "1970/01/19/IMG_0945.HEIC    3.0\n",
       "2018/03/30/IMG_0111.HEIC    2.0\n",
       "2019/09/10/29963.png        2.0\n",
       "2019/09/19/IMG_7931.HEIC    2.0\n",
       "                           ... \n",
       "2021/06/24/IMG_2038.HEIC    2.0\n",
       "2021/06/24/IMG_2039.HEIC    2.0\n",
       "2021/06/24/IMG_2040.HEIC    2.0\n",
       "2021/06/24/IMG_2041.HEIC    2.0\n",
       "2021/06/27/IMG_2304.HEIC    2.0\n",
       "Name: count, Length: 673, dtype: float64"
      ]
     },
     "execution_count": 45,
     "metadata": {},
     "output_type": "execute_result"
    }
   ],
   "source": [
    "g = df.groupby('path')['path'].value_counts()\n",
    "g.where(g>1).dropna()"
   ]
  },
  {
   "cell_type": "markdown",
   "metadata": {},
   "source": []
  },
  {
   "cell_type": "code",
   "execution_count": 47,
   "metadata": {},
   "outputs": [
    {
     "data": {
      "text/plain": [
       "5508    https://olm-s3.s3.eu-west-1.amazonaws.com/1970...\n",
       "5509    https://olm-s3.s3.eu-west-1.amazonaws.com/1970...\n",
       "5510    https://olm-s3.s3.eu-west-1.amazonaws.com/1970...\n",
       "Name: image_url, dtype: object"
      ]
     },
     "execution_count": 47,
     "metadata": {},
     "output_type": "execute_result"
    }
   ],
   "source": [
    "df[df['path'] == '1970/01/19/IMG_0944.HEIC']['image_url']"
   ]
  },
  {
   "cell_type": "markdown",
   "metadata": {},
   "source": []
  },
  {
   "cell_type": "code",
   "execution_count": null,
   "metadata": {},
   "outputs": [],
   "source": [
    "\n",
    "year = '2018'\n",
    "month = '08'\n",
    "day = '08'\n",
    "filename = 'lSuFzWg1oaDIz0aVdHFY1Jfh5i9gMjnUo79xAkww.jpeg'\n",
    "command = f'aws s3 cp s3://olm-s3/{year}/{month}/{day}/{filename} s3://art-photo-storage/{year}/{month}/{day}/{filename}'\n",
    "os.system(command)"
   ]
  }
 ],
 "metadata": {
  "kernelspec": {
   "display_name": "web",
   "language": "python",
   "name": "python3"
  },
  "language_info": {
   "codemirror_mode": {
    "name": "ipython",
    "version": 3
   },
   "file_extension": ".py",
   "mimetype": "text/x-python",
   "name": "python",
   "nbconvert_exporter": "python",
   "pygments_lexer": "ipython3",
   "version": "3.10.12"
  }
 },
 "nbformat": 4,
 "nbformat_minor": 2
}
