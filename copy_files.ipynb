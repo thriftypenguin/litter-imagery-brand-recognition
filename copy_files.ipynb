{
 "cells": [
  {
   "cell_type": "code",
   "execution_count": 1,
   "metadata": {},
   "outputs": [
    {
     "name": "stderr",
     "output_type": "stream",
     "text": [
      "'source' is not recognized as an internal or external command,\n",
      "operable program or batch file.\n"
     ]
    }
   ],
   "source": [
    "!source .venv/bin/activate"
   ]
  },
  {
   "cell_type": "code",
   "execution_count": 10,
   "metadata": {},
   "outputs": [],
   "source": [
    "import os\n",
    "import pandas as pd"
   ]
  },
  {
   "cell_type": "code",
   "execution_count": 11,
   "metadata": {},
   "outputs": [
    {
     "name": "stdout",
     "output_type": "stream",
     "text": [
      "Total 28397 images. 27388 of them are unique\n"
     ]
    }
   ],
   "source": [
    "df = pd.read_excel('./data/final_output_with_images.xlsx')[['id','image_url']].dropna(axis = 0)\n",
    "df['path'] = df['image_url'].apply(lambda x: x.split('com/')[1])\n",
    "print(f\"Total {df['id'].count()} images. {df['path'].nunique()} of them are unique\")\n"
   ]
  },
  {
   "cell_type": "code",
   "execution_count": null,
   "metadata": {},
   "outputs": [],
   "source": [
    "# Look at the head\n",
    "df.sort_values(by = 'id', inplace= True)\n",
    "df.head()"
   ]
  },
  {
   "cell_type": "code",
   "execution_count": 15,
   "metadata": {},
   "outputs": [
    {
     "data": {
      "text/html": [
       "<div>\n",
       "<style scoped>\n",
       "    .dataframe tbody tr th:only-of-type {\n",
       "        vertical-align: middle;\n",
       "    }\n",
       "\n",
       "    .dataframe tbody tr th {\n",
       "        vertical-align: top;\n",
       "    }\n",
       "\n",
       "    .dataframe thead th {\n",
       "        text-align: right;\n",
       "    }\n",
       "</style>\n",
       "<table border=\"1\" class=\"dataframe\">\n",
       "  <thead>\n",
       "    <tr style=\"text-align: right;\">\n",
       "      <th></th>\n",
       "      <th>id</th>\n",
       "      <th>image_url</th>\n",
       "      <th>path</th>\n",
       "    </tr>\n",
       "  </thead>\n",
       "  <tbody>\n",
       "    <tr>\n",
       "      <th>7365</th>\n",
       "      <td>4222</td>\n",
       "      <td>https://olm-s3.s3.eu-west-1.amazonaws.com/112/...</td>\n",
       "      <td>112/Pftq4550WzgZA5euhgIEsLHGs63tXSHAqCP07WKl.jpeg</td>\n",
       "    </tr>\n",
       "    <tr>\n",
       "      <th>7366</th>\n",
       "      <td>4223</td>\n",
       "      <td>https://olm-s3.s3.eu-west-1.amazonaws.com/112/...</td>\n",
       "      <td>112/HKXafwXvrpBQjoWC9aPtSY8lTGcdoZVlPItqNQkK.jpeg</td>\n",
       "    </tr>\n",
       "    <tr>\n",
       "      <th>7367</th>\n",
       "      <td>4227</td>\n",
       "      <td>https://olm-s3.s3.eu-west-1.amazonaws.com/112/...</td>\n",
       "      <td>112/69M58FGWNVp1ZTObF0YmkMfGNEz1nUu1B2MSI8Gt.jpeg</td>\n",
       "    </tr>\n",
       "    <tr>\n",
       "      <th>7368</th>\n",
       "      <td>4228</td>\n",
       "      <td>https://olm-s3.s3.eu-west-1.amazonaws.com/112/...</td>\n",
       "      <td>112/Da9HiIUxqaxY7WeKi2INrzgTGzLGTvAl5HBhIEfn.jpeg</td>\n",
       "    </tr>\n",
       "    <tr>\n",
       "      <th>7369</th>\n",
       "      <td>4229</td>\n",
       "      <td>https://olm-s3.s3.eu-west-1.amazonaws.com/112/...</td>\n",
       "      <td>112/pUY1im8pNbPUAceAv17T5SCvmwK8KIAmVatpCN2o.jpeg</td>\n",
       "    </tr>\n",
       "  </tbody>\n",
       "</table>\n",
       "</div>"
      ],
      "text/plain": [
       "        id                                          image_url  \\\n",
       "7365  4222  https://olm-s3.s3.eu-west-1.amazonaws.com/112/...   \n",
       "7366  4223  https://olm-s3.s3.eu-west-1.amazonaws.com/112/...   \n",
       "7367  4227  https://olm-s3.s3.eu-west-1.amazonaws.com/112/...   \n",
       "7368  4228  https://olm-s3.s3.eu-west-1.amazonaws.com/112/...   \n",
       "7369  4229  https://olm-s3.s3.eu-west-1.amazonaws.com/112/...   \n",
       "\n",
       "                                                   path  \n",
       "7365  112/Pftq4550WzgZA5euhgIEsLHGs63tXSHAqCP07WKl.jpeg  \n",
       "7366  112/HKXafwXvrpBQjoWC9aPtSY8lTGcdoZVlPItqNQkK.jpeg  \n",
       "7367  112/69M58FGWNVp1ZTObF0YmkMfGNEz1nUu1B2MSI8Gt.jpeg  \n",
       "7368  112/Da9HiIUxqaxY7WeKi2INrzgTGzLGTvAl5HBhIEfn.jpeg  \n",
       "7369  112/pUY1im8pNbPUAceAv17T5SCvmwK8KIAmVatpCN2o.jpeg  "
      ]
     },
     "execution_count": 15,
     "metadata": {},
     "output_type": "execute_result"
    }
   ],
   "source": [
    "# Remove all duplicate paths\n",
    "df = df.groupby('path', as_index=False)[df.columns].first()\n",
    "\n",
    "# Look at the head again to confirm we did not mess anything up\n",
    "df.sort_values(by = 'id', inplace= True)\n",
    "df.head()"
   ]
  },
  {
   "cell_type": "code",
   "execution_count": null,
   "metadata": {},
   "outputs": [],
   "source": [
    "\n",
    "year = '2018'\n",
    "month = '08'\n",
    "day = '08'\n",
    "filename = 'lSuFzWg1oaDIz0aVdHFY1Jfh5i9gMjnUo79xAkww.jpeg'\n",
    "command = f'aws s3 cp s3://olm-s3/{year}/{month}/{day}/{filename} s3://olm-pics-s3/{year}/{month}/{day}/{filename}'\n",
    "os.system(command)"
   ]
  }
 ],
 "metadata": {
  "kernelspec": {
   "display_name": "web",
   "language": "python",
   "name": "python3"
  },
  "language_info": {
   "codemirror_mode": {
    "name": "ipython",
    "version": 3
   },
   "file_extension": ".py",
   "mimetype": "text/x-python",
   "name": "python",
   "nbconvert_exporter": "python",
   "pygments_lexer": "ipython3",
   "version": "3.12.1"
  }
 },
 "nbformat": 4,
 "nbformat_minor": 2
}
