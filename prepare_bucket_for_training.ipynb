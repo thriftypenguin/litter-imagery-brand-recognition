{
 "cells": [
  {
   "cell_type": "code",
   "execution_count": 1,
   "metadata": {},
   "outputs": [],
   "source": [
    "import os\n",
    "import pandas as pd\n",
    "import numpy as np\n",
    "import boto3"
   ]
  },
  {
   "cell_type": "code",
   "execution_count": 3,
   "metadata": {},
   "outputs": [
    {
     "data": {
      "text/html": [
       "<div>\n",
       "<style scoped>\n",
       "    .dataframe tbody tr th:only-of-type {\n",
       "        vertical-align: middle;\n",
       "    }\n",
       "\n",
       "    .dataframe tbody tr th {\n",
       "        vertical-align: top;\n",
       "    }\n",
       "\n",
       "    .dataframe thead th {\n",
       "        text-align: right;\n",
       "    }\n",
       "</style>\n",
       "<table border=\"1\" class=\"dataframe\">\n",
       "  <thead>\n",
       "    <tr style=\"text-align: right;\">\n",
       "      <th></th>\n",
       "      <th>Key</th>\n",
       "      <th>Size</th>\n",
       "      <th>LastModified</th>\n",
       "    </tr>\n",
       "  </thead>\n",
       "  <tbody>\n",
       "    <tr>\n",
       "      <th>0</th>\n",
       "      <td>open_logo.csv</td>\n",
       "      <td>2633611</td>\n",
       "      <td>2024-06-13 14:03:24+00:00</td>\n",
       "    </tr>\n",
       "    <tr>\n",
       "      <th>1</th>\n",
       "      <td>open_logo_annotations/1008198576.xml</td>\n",
       "      <td>607</td>\n",
       "      <td>2024-06-13 13:41:58+00:00</td>\n",
       "    </tr>\n",
       "    <tr>\n",
       "      <th>2</th>\n",
       "      <td>open_logo_annotations/1016381746.xml</td>\n",
       "      <td>603</td>\n",
       "      <td>2024-06-13 13:41:59+00:00</td>\n",
       "    </tr>\n",
       "    <tr>\n",
       "      <th>3</th>\n",
       "      <td>open_logo_annotations/102448630.xml</td>\n",
       "      <td>610</td>\n",
       "      <td>2024-06-13 13:41:59+00:00</td>\n",
       "    </tr>\n",
       "    <tr>\n",
       "      <th>4</th>\n",
       "      <td>open_logo_annotations/1030265231.xml</td>\n",
       "      <td>606</td>\n",
       "      <td>2024-06-13 13:41:59+00:00</td>\n",
       "    </tr>\n",
       "    <tr>\n",
       "      <th>...</th>\n",
       "      <td>...</td>\n",
       "      <td>...</td>\n",
       "      <td>...</td>\n",
       "    </tr>\n",
       "    <tr>\n",
       "      <th>55003</th>\n",
       "      <td>open_logo_images/zara5.jpg</td>\n",
       "      <td>57705</td>\n",
       "      <td>2024-06-13 13:42:51+00:00</td>\n",
       "    </tr>\n",
       "    <tr>\n",
       "      <th>55004</th>\n",
       "      <td>open_logo_images/zara6.jpg</td>\n",
       "      <td>53682</td>\n",
       "      <td>2024-06-13 13:42:51+00:00</td>\n",
       "    </tr>\n",
       "    <tr>\n",
       "      <th>55005</th>\n",
       "      <td>open_logo_images/zara7.jpg</td>\n",
       "      <td>230092</td>\n",
       "      <td>2024-06-13 13:42:51+00:00</td>\n",
       "    </tr>\n",
       "    <tr>\n",
       "      <th>55006</th>\n",
       "      <td>open_logo_images/zara8.jpg</td>\n",
       "      <td>107913</td>\n",
       "      <td>2024-06-13 13:42:52+00:00</td>\n",
       "    </tr>\n",
       "    <tr>\n",
       "      <th>55007</th>\n",
       "      <td>open_logo_images/zara9.jpg</td>\n",
       "      <td>11125</td>\n",
       "      <td>2024-06-13 13:42:52+00:00</td>\n",
       "    </tr>\n",
       "  </tbody>\n",
       "</table>\n",
       "<p>55008 rows × 3 columns</p>\n",
       "</div>"
      ],
      "text/plain": [
       "                                        Key     Size              LastModified\n",
       "0                             open_logo.csv  2633611 2024-06-13 14:03:24+00:00\n",
       "1      open_logo_annotations/1008198576.xml      607 2024-06-13 13:41:58+00:00\n",
       "2      open_logo_annotations/1016381746.xml      603 2024-06-13 13:41:59+00:00\n",
       "3       open_logo_annotations/102448630.xml      610 2024-06-13 13:41:59+00:00\n",
       "4      open_logo_annotations/1030265231.xml      606 2024-06-13 13:41:59+00:00\n",
       "...                                     ...      ...                       ...\n",
       "55003            open_logo_images/zara5.jpg    57705 2024-06-13 13:42:51+00:00\n",
       "55004            open_logo_images/zara6.jpg    53682 2024-06-13 13:42:51+00:00\n",
       "55005            open_logo_images/zara7.jpg   230092 2024-06-13 13:42:51+00:00\n",
       "55006            open_logo_images/zara8.jpg   107913 2024-06-13 13:42:52+00:00\n",
       "55007            open_logo_images/zara9.jpg    11125 2024-06-13 13:42:52+00:00\n",
       "\n",
       "[55008 rows x 3 columns]"
      ]
     },
     "execution_count": 3,
     "metadata": {},
     "output_type": "execute_result"
    }
   ],
   "source": [
    "# Create an S3 client\n",
    "s3 = boto3.client('s3')\n",
    "\n",
    "# Specify the bucket name\n",
    "bucket_name = 'open-logo-s3'\n",
    "\n",
    "# Get the list of objects in the bucket\n",
    "response = s3.list_objects_v2(Bucket=bucket_name)\n",
    "\n",
    "# Create an empty list to store the file information\n",
    "file_info = []\n",
    "\n",
    "# Iterate through the objects and extract the relevant information\n",
    "while response['IsTruncated']:\n",
    "    for obj in response['Contents']:\n",
    "        file_info.append({\n",
    "            'Key': obj['Key'],\n",
    "            'Size': obj['Size'],\n",
    "            'LastModified': obj['LastModified']\n",
    "        })\n",
    "    token = response['NextContinuationToken']\n",
    "    response = s3.list_objects_v2(Bucket=bucket_name, ContinuationToken=token)\n",
    "\n",
    "for obj in response['Contents']:\n",
    "    file_info.append({\n",
    "        'Key': obj['Key'],\n",
    "        'Size': obj['Size'],\n",
    "        'LastModified': obj['LastModified']\n",
    "    })\n",
    "\n",
    "# Create a Pandas DataFrame from the file information\n",
    "df_names = pd.DataFrame(file_info)\n",
    "df_names"
   ]
  },
  {
   "cell_type": "code",
   "execution_count": 5,
   "metadata": {},
   "outputs": [],
   "source": [
    "import io\n",
    "obj = s3.get_object(Bucket='open-logo-s3', Key='open_logo.csv')\n",
    "df = pd.read_csv(io.BytesIO(obj['Body'].read()), sep = '\\t')"
   ]
  },
  {
   "cell_type": "code",
   "execution_count": 9,
   "metadata": {},
   "outputs": [
    {
     "data": {
      "text/plain": [
       "21666"
      ]
     },
     "execution_count": 9,
     "metadata": {},
     "output_type": "execute_result"
    }
   ],
   "source": [
    "train_val_ratio = 0.8\n",
    "train_num = int(len(df)*0.8//1) #Number of files to be used for training\n",
    "train_indices = np.random.choice(range(0, train_num), size=train_num, replace=False) #Indeces of training files\n",
    "df[df.index.isin(train_indices)] #Dataframe with files to be used for training"
   ]
  },
  {
   "cell_type": "code",
   "execution_count": 23,
   "metadata": {},
   "outputs": [
    {
     "data": {
      "text/plain": [
       "'s3:\\\\YOLO\\\\data\\\\images\\\\train'"
      ]
     },
     "execution_count": 23,
     "metadata": {},
     "output_type": "execute_result"
    }
   ],
   "source": [
    "p = 's3:'\n",
    "train_img_path = os.path.join(p, 'open-logo-s3', 'YOLO', 'data', 'images','train')"
   ]
  },
  {
   "cell_type": "code",
   "execution_count": 21,
   "metadata": {},
   "outputs": [
    {
     "ename": "OSError",
     "evalue": "[WinError 123] The filename, directory name, or volume label syntax is incorrect: 's3:'",
     "output_type": "error",
     "traceback": [
      "\u001b[1;31m---------------------------------------------------------------------------\u001b[0m",
      "\u001b[1;31mOSError\u001b[0m                                   Traceback (most recent call last)",
      "Cell \u001b[1;32mIn[21], line 3\u001b[0m\n\u001b[0;32m      1\u001b[0m p \u001b[38;5;241m=\u001b[39m \u001b[38;5;124m'\u001b[39m\u001b[38;5;124ms3://\u001b[39m\u001b[38;5;124m'\u001b[39m\n\u001b[0;32m      2\u001b[0m train_img_path \u001b[38;5;241m=\u001b[39m os\u001b[38;5;241m.\u001b[39mpath\u001b[38;5;241m.\u001b[39mjoin(p, \u001b[38;5;124m'\u001b[39m\u001b[38;5;124mYOLO\u001b[39m\u001b[38;5;124m'\u001b[39m, \u001b[38;5;124m'\u001b[39m\u001b[38;5;124mdata\u001b[39m\u001b[38;5;124m'\u001b[39m, \u001b[38;5;124m'\u001b[39m\u001b[38;5;124mimages\u001b[39m\u001b[38;5;124m'\u001b[39m,\u001b[38;5;124m'\u001b[39m\u001b[38;5;124mtrain\u001b[39m\u001b[38;5;124m'\u001b[39m)\n\u001b[1;32m----> 3\u001b[0m \u001b[43mos\u001b[49m\u001b[38;5;241;43m.\u001b[39;49m\u001b[43mmakedirs\u001b[49m\u001b[43m(\u001b[49m\u001b[43mtrain_img_path\u001b[49m\u001b[43m)\u001b[49m\n\u001b[0;32m      4\u001b[0m val_img_path \u001b[38;5;241m=\u001b[39m os\u001b[38;5;241m.\u001b[39mpath\u001b[38;5;241m.\u001b[39mjoin(p, \u001b[38;5;124m'\u001b[39m\u001b[38;5;124mYOLO\u001b[39m\u001b[38;5;124m'\u001b[39m, \u001b[38;5;124m'\u001b[39m\u001b[38;5;124mdata\u001b[39m\u001b[38;5;124m'\u001b[39m, \u001b[38;5;124m'\u001b[39m\u001b[38;5;124mimages\u001b[39m\u001b[38;5;124m'\u001b[39m,\u001b[38;5;124m'\u001b[39m\u001b[38;5;124mval\u001b[39m\u001b[38;5;124m'\u001b[39m)\n\u001b[0;32m      5\u001b[0m os\u001b[38;5;241m.\u001b[39mmakedirs(val_img_path)\n",
      "File \u001b[1;32m<frozen os>:215\u001b[0m, in \u001b[0;36mmakedirs\u001b[1;34m(name, mode, exist_ok)\u001b[0m\n",
      "File \u001b[1;32m<frozen os>:215\u001b[0m, in \u001b[0;36mmakedirs\u001b[1;34m(name, mode, exist_ok)\u001b[0m\n",
      "    \u001b[1;31m[... skipping similar frames: makedirs at line 215 (1 times)]\u001b[0m\n",
      "File \u001b[1;32m<frozen os>:215\u001b[0m, in \u001b[0;36mmakedirs\u001b[1;34m(name, mode, exist_ok)\u001b[0m\n",
      "File \u001b[1;32m<frozen os>:225\u001b[0m, in \u001b[0;36mmakedirs\u001b[1;34m(name, mode, exist_ok)\u001b[0m\n",
      "\u001b[1;31mOSError\u001b[0m: [WinError 123] The filename, directory name, or volume label syntax is incorrect: 's3:'"
     ]
    }
   ],
   "source": [
    "\n",
    "os.makedirs(train_img_path)\n",
    "val_img_path = os.path.join(p, 'YOLO', 'data', 'images','val')\n",
    "os.makedirs(val_img_path)\n",
    "train_lbl_path = os.path.join(p, 'YOLO', 'data', 'labels','train')\n",
    "os.makedirs(train_lbl_path)\n",
    "val_lbl_path = os.path.join(p, 'YOLO', 'data', 'labels','val')\n",
    "os.makedirs(val_lbl_path)"
   ]
  },
  {
   "cell_type": "code",
   "execution_count": null,
   "metadata": {},
   "outputs": [],
   "source": [
    "for i in range(len(df[~df.index.isin(train_indices)])):\n",
    "  img_curr_path = df[~df.index.isin(train_indices)]['image_path']\n",
    "  img_curr_path = os.path.join(p, 'raw', 'images', val_file)\n",
    "  img_new_path = os.path.join(val_img_path, val_file)\n",
    "  shutil.move(img_curr_path, img_new_path)\n",
    "  lbl_curr_path = df[~df.index.isin(train_indices)]['annotations_path']\n",
    "  lbl_new_path = os.path.join(val_lbl_path, val_file[:-3] +'txt')\n",
    "  shutil.move(lbl_curr_path, lbl_new_path)"
   ]
  }
 ],
 "metadata": {
  "kernelspec": {
   "display_name": ".venv",
   "language": "python",
   "name": "python3"
  },
  "language_info": {
   "codemirror_mode": {
    "name": "ipython",
    "version": 3
   },
   "file_extension": ".py",
   "mimetype": "text/x-python",
   "name": "python",
   "nbconvert_exporter": "python",
   "pygments_lexer": "ipython3",
   "version": "3.12.1"
  }
 },
 "nbformat": 4,
 "nbformat_minor": 2
}
